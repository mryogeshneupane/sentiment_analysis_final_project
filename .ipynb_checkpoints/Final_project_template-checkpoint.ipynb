{
 "cells": [
  {
   "cell_type": "markdown",
   "id": "29b0c050-f348-47f1-b63a-3acf3284a9e4",
   "metadata": {},
   "source": [
    "# Title: Sentiment Analysis Using DeepLearning BERT\n",
    "\n",
    "#### Group Member Names : ROSHAN KHATRI, YOGESH NEUPANE\n",
    "\n"
   ]
  },
  {
   "cell_type": "markdown",
   "id": "5e12eb4b-88c5-4318-b8ae-5978048c4998",
   "metadata": {},
   "source": [
    "### INTRODUCTION:\n",
    "\n",
    "Sentiment analysis is a natural language processing (NLP) method to do the classification task of a piece of text (e.g., positive, negative or neutral). It is one of the key functions of such applications, as social media monitoring, product review analysis, or an understanding of customer feedback. Using state-of-the-art machine learning methods (particularly deep learning and the transformer architecture, such as the BERT Bidirectional Encoder Representations from Transformers) can be used to dramatically enhance both accuracy and efficiency in sentiment analysis systems.\n",
    "\n",
    "#### AIM :\n",
    "\n",
    "Development of a highly accurate, reliable and stable system for training text-level sentiment analysis using the state-of-the-art deep learning model BERT, and sentiment classifications of text data to various sentiment classes.\n",
    "\n",
    "#### Github Repo:\n",
    "https://github.com/mryogeshneupane/sentiment_analysis_final_project.git\n",
    "\n",
    "#### Dataset Link:\n",
    "https://www.kaggle.com/datasets/kazanova/sentiment140\n",
    "\n",
    "\n",
    "#### DESCRIPTION OF PAPER:\n",
    "\n",
    "In this paper/study sentiment analysis is performed, and the proposed model is validated and evaluated for BERT, a transformer-based model that is widely recognized for its bidirectional training and language comprehension capabilities. The work highlights the effect of pre-trained models on performances in text classification problems and compares the performance of BERT to traditional machine learning and deep learning methods.\n",
    "\n",
    "The paper includes the following: The paper includes the following:\n",
    "\n",
    "- Overview of sentiment analysis techniques.\n",
    "\n",
    "- Discussion on the role of BERT in NLP tasks.\n",
    "\n",
    "- Implementation details of sentiment classification using BERT.\n",
    "\n",
    "- Performance metrics and evaluations to validate its efficiency.\n",
    "\n",
    "#### PROBLEM STATEMENT :\n",
    "\n",
    "Sentiment analysis traditionally has been based on rules-of-thumb or simple machine-learning techniques, and which have difficulty with contextualization and vagueness in natural language. The current approaches tend to lose insights, such as sarcasm, double negation, or idiomatic expressions, to take the best position of the classification result. There is a demand for a next-generation solution to effectively capture the context and sentiment of text and achieves more robust accuracy in its real-world applications.\n",
    "\n",
    "#### CONTEXT OF THE PROBLEM:\n",
    "\n",
    "The ever-increasing amount of unstructured textual data from websites like social media, review sites, and feedback forms requires effective tools to generate actionable insights. Traditional sentiment analysis models can not be generalized or perform well due to the inability to learn the context of word in sentences. This requires the use of new NLP models such as BERT which are explicitly able to model language relationships considering their context.\n",
    "\n",
    "#### SOLUTION:\n",
    "\n",
    "As an extension, the proposed solution is to leverage the pre-trained BERT model for sentiment classification fine-tuned task. The steps include:\n",
    "\n",
    "- Preprocessing text data for compatibility with the BERT tokenizer.\n",
    "\n",
    "- Fine-tuning of the pre-trained BERT model using a labeled semंत-driven sentiment dataset, for learning task-dependent features.\n",
    "\n",
    "- Use of deep learning method for model training and optimization purpose, aiming for improved generalization.\n",
    "\n",
    "- Assessing a model using performance metrics (accuracy, precision, recall, and F1-score) in order to confirm its performance.\n",
    "\n",
    "In this solution, we have made the use of the context and semantics in text that BERT is capable of, and thus it is a sound solution for achieving effective sentiment classification.\n"
   ]
  },
  {
   "cell_type": "markdown",
   "id": "0d036b08-f670-4bcb-8583-52884447a548",
   "metadata": {},
   "source": [
    "# Background\n",
    "\n",
    "## Reference:\n",
    "\n",
    "The application of the repository Sentiment Analysis Using DeepLearning BERT, which is based on BERT architecture, carries out sentiment classification. This repository exploits the latest methods to enhance sentiment prediction through the incorporation of contextualization and bidirectional training.\n",
    "\n",
    "## Explanation:\n",
    "\n",
    "Since introducing bidirectional training (i.e. a training that considers the context of a token), BERT (Bidirectional encoder representations from Transformers) revolutionized natural language processing (NLP) tasks. This is especially a problem with sentiment analysis, where semantic information (negation, \"not good\", ambiguities, sarcasm, irony) is essential to determine the class of the sentiment.\n",
    "\n",
    "For this implementation, BERT is tuned only for the sentiment-classification activity, i.e., learning the useful representations from the unlabeled text data, such as tweets, etc., to create the sentiment of the classification with labeled data set (e.g., positive, negative, neutral).\n",
    "\n",
    "## Dataset:\n",
    "\n",
    "Implementation has used the publicly available datasets for sentiment analysis i.e. Twitter Sentiment Dataset – Tweets annotated with sentiment labels.\n",
    "\n",
    "Preprocessing consists of tokenization with the BERT tokenizer, mapping of text to input IDs and attention masks that can be fed to the model. The data is divided into training, validation, and test datasets to ensure proper evaluation.\n",
    "\n",
    "## Weakness:\n",
    "However, the following limitations exist in the BERT-based sentiment analysis method:.\n",
    "\n",
    "Computational Cost:\n",
    "Fine-tuning BERT is computationally demanding as high-end GPUs or TPUs are often not available to all researchers.\n",
    "\n",
    "Data Dependency:\n",
    "Performance strongly relies on the quality and size of the training data. Small or noisy datasets can lead to poor generalization.\n",
    "\n",
    "Context Limitations:\n",
    "BERT has a fixed input size (typically 512 tokens). When longer texts have to be truncated, there is an unavoidable risk of the loss of important information.\n",
    "\n",
    "Interpretability:\n",
    "Transformer models like BERT operate as black boxes, making it difficult to interpret or explain their predictions, which is a concern in sensitive applications.\n",
    "\n",
    "Overfitting Risk:\n",
    "Fine-tuning using a limited amount of data may result in overfitting, and therefore in poor performance on unseen data."
   ]
  },
  {
   "cell_type": "markdown",
   "id": "8ecd1b42-fdb4-4b68-a68e-fe19b89ef030",
   "metadata": {},
   "source": [
    "# Implement paper code :"
   ]
  },
  {
   "cell_type": "markdown",
   "id": "1793fc35",
   "metadata": {},
   "source": [
    "# Import Necessary Library "
   ]
  },
  {
   "cell_type": "code",
   "execution_count": null,
   "id": "0aa8c20f-9a42-4b27-bfd1-ee6c1ff0fde7",
   "metadata": {},
   "outputs": [],
   "source": [
    "import numpy as np # linear algebra\n",
    "import pandas as pd \n",
    "import re \n",
    "import pickle\n",
    "\n",
    "from sklearn.model_selection import train_test_split\n",
    "from sklearn.metrics import accuracy_score\n",
    "\n",
    "from tensorflow.keras.preprocessing.text import Tokenizer\n",
    "from tensorflow.keras.preprocessing.sequence import pad_sequences\n",
    "from tensorflow.keras import Sequential\n",
    "from tensorflow.keras.layers import Dense, SimpleRNN, Embedding, LSTM, GRU, Bidirectional, Conv1D, MaxPooling1D, GlobalMaxPooling1D\n",
    "from tensorflow.keras.preprocessing.text import Tokenizer\n",
    "from tensorflow.keras.layers import Dropout\n",
    "from tensorflow.keras.models import load_model\n",
    "\n",
    "from gensim.models import Word2Vec\n",
    "from gensim.models import KeyedVectors"
   ]
  },
  {
   "cell_type": "code",
   "execution_count": 15,
   "id": "343bdee6",
   "metadata": {
    "papermill": {
     "duration": 6.166563,
     "end_time": "2023-09-11T14:02:54.412168",
     "exception": false,
     "start_time": "2023-09-11T14:02:48.245605",
     "status": "completed"
    },
    "tags": []
   },
   "outputs": [
    {
     "data": {
      "text/html": [
       "<div>\n",
       "<style scoped>\n",
       "    .dataframe tbody tr th:only-of-type {\n",
       "        vertical-align: middle;\n",
       "    }\n",
       "\n",
       "    .dataframe tbody tr th {\n",
       "        vertical-align: top;\n",
       "    }\n",
       "\n",
       "    .dataframe thead th {\n",
       "        text-align: right;\n",
       "    }\n",
       "</style>\n",
       "<table border=\"1\" class=\"dataframe\">\n",
       "  <thead>\n",
       "    <tr style=\"text-align: right;\">\n",
       "      <th></th>\n",
       "      <th>sentiment</th>\n",
       "      <th>ids</th>\n",
       "      <th>date</th>\n",
       "      <th>flag</th>\n",
       "      <th>user</th>\n",
       "      <th>tweet</th>\n",
       "    </tr>\n",
       "  </thead>\n",
       "  <tbody>\n",
       "    <tr>\n",
       "      <th>0</th>\n",
       "      <td>0</td>\n",
       "      <td>1467810369</td>\n",
       "      <td>Mon Apr 06 22:19:45 PDT 2009</td>\n",
       "      <td>NO_QUERY</td>\n",
       "      <td>_TheSpecialOne_</td>\n",
       "      <td>@switchfoot http://twitpic.com/2y1zl - Awww, t...</td>\n",
       "    </tr>\n",
       "    <tr>\n",
       "      <th>1</th>\n",
       "      <td>0</td>\n",
       "      <td>1467810672</td>\n",
       "      <td>Mon Apr 06 22:19:49 PDT 2009</td>\n",
       "      <td>NO_QUERY</td>\n",
       "      <td>scotthamilton</td>\n",
       "      <td>is upset that he can't update his Facebook by ...</td>\n",
       "    </tr>\n",
       "    <tr>\n",
       "      <th>2</th>\n",
       "      <td>0</td>\n",
       "      <td>1467810917</td>\n",
       "      <td>Mon Apr 06 22:19:53 PDT 2009</td>\n",
       "      <td>NO_QUERY</td>\n",
       "      <td>mattycus</td>\n",
       "      <td>@Kenichan I dived many times for the ball. Man...</td>\n",
       "    </tr>\n",
       "    <tr>\n",
       "      <th>3</th>\n",
       "      <td>0</td>\n",
       "      <td>1467811184</td>\n",
       "      <td>Mon Apr 06 22:19:57 PDT 2009</td>\n",
       "      <td>NO_QUERY</td>\n",
       "      <td>ElleCTF</td>\n",
       "      <td>my whole body feels itchy and like its on fire</td>\n",
       "    </tr>\n",
       "    <tr>\n",
       "      <th>4</th>\n",
       "      <td>0</td>\n",
       "      <td>1467811193</td>\n",
       "      <td>Mon Apr 06 22:19:57 PDT 2009</td>\n",
       "      <td>NO_QUERY</td>\n",
       "      <td>Karoli</td>\n",
       "      <td>@nationwideclass no, it's not behaving at all....</td>\n",
       "    </tr>\n",
       "  </tbody>\n",
       "</table>\n",
       "</div>"
      ],
      "text/plain": [
       "   sentiment         ids                          date      flag  \\\n",
       "0          0  1467810369  Mon Apr 06 22:19:45 PDT 2009  NO_QUERY   \n",
       "1          0  1467810672  Mon Apr 06 22:19:49 PDT 2009  NO_QUERY   \n",
       "2          0  1467810917  Mon Apr 06 22:19:53 PDT 2009  NO_QUERY   \n",
       "3          0  1467811184  Mon Apr 06 22:19:57 PDT 2009  NO_QUERY   \n",
       "4          0  1467811193  Mon Apr 06 22:19:57 PDT 2009  NO_QUERY   \n",
       "\n",
       "              user                                              tweet  \n",
       "0  _TheSpecialOne_  @switchfoot http://twitpic.com/2y1zl - Awww, t...  \n",
       "1    scotthamilton  is upset that he can't update his Facebook by ...  \n",
       "2         mattycus  @Kenichan I dived many times for the ball. Man...  \n",
       "3          ElleCTF    my whole body feels itchy and like its on fire   \n",
       "4           Karoli  @nationwideclass no, it's not behaving at all....  "
      ]
     },
     "execution_count": 15,
     "metadata": {},
     "output_type": "execute_result"
    }
   ],
   "source": [
    "# Importing the dataset\n",
    "DATASET_COLUMNS  = [\"sentiment\", \"ids\", \"date\", \"flag\", \"user\", \"tweet\"]\n",
    "DATASET_ENCODING = \"ISO-8859-1\"\n",
    "dataset = pd.read_csv('/Users/yogeshneupane/Downloads/mlpfinal/training.1600000.processed.noemoticon.csv',\n",
    "                      encoding=DATASET_ENCODING , names=DATASET_COLUMNS)\n",
    "dataset.head()"
   ]
  },
  {
   "cell_type": "code",
   "execution_count": 36,
   "id": "7cebebdc",
   "metadata": {
    "papermill": {
     "duration": 0.028537,
     "end_time": "2023-09-11T14:02:54.457355",
     "exception": false,
     "start_time": "2023-09-11T14:02:54.428818",
     "status": "completed"
    },
    "tags": []
   },
   "outputs": [
    {
     "data": {
      "text/plain": [
       "(1600000, 6)"
      ]
     },
     "execution_count": 36,
     "metadata": {},
     "output_type": "execute_result"
    }
   ],
   "source": [
    "dataset.shape"
   ]
  },
  {
   "cell_type": "code",
   "execution_count": 37,
   "id": "0e30dd55",
   "metadata": {
    "papermill": {
     "duration": 0.074192,
     "end_time": "2023-09-11T14:02:54.547499",
     "exception": false,
     "start_time": "2023-09-11T14:02:54.473307",
     "status": "completed"
    },
    "tags": []
   },
   "outputs": [
    {
     "data": {
      "text/html": [
       "<div>\n",
       "<style scoped>\n",
       "    .dataframe tbody tr th:only-of-type {\n",
       "        vertical-align: middle;\n",
       "    }\n",
       "\n",
       "    .dataframe tbody tr th {\n",
       "        vertical-align: top;\n",
       "    }\n",
       "\n",
       "    .dataframe thead th {\n",
       "        text-align: right;\n",
       "    }\n",
       "</style>\n",
       "<table border=\"1\" class=\"dataframe\">\n",
       "  <thead>\n",
       "    <tr style=\"text-align: right;\">\n",
       "      <th></th>\n",
       "      <th>sentiment</th>\n",
       "      <th>tweet</th>\n",
       "    </tr>\n",
       "  </thead>\n",
       "  <tbody>\n",
       "    <tr>\n",
       "      <th>0</th>\n",
       "      <td>0</td>\n",
       "      <td>@switchfoot http://twitpic.com/2y1zl - Awww, t...</td>\n",
       "    </tr>\n",
       "    <tr>\n",
       "      <th>1</th>\n",
       "      <td>0</td>\n",
       "      <td>is upset that he can't update his Facebook by ...</td>\n",
       "    </tr>\n",
       "    <tr>\n",
       "      <th>2</th>\n",
       "      <td>0</td>\n",
       "      <td>@Kenichan I dived many times for the ball. Man...</td>\n",
       "    </tr>\n",
       "    <tr>\n",
       "      <th>3</th>\n",
       "      <td>0</td>\n",
       "      <td>my whole body feels itchy and like its on fire</td>\n",
       "    </tr>\n",
       "    <tr>\n",
       "      <th>4</th>\n",
       "      <td>0</td>\n",
       "      <td>@nationwideclass no, it's not behaving at all....</td>\n",
       "    </tr>\n",
       "  </tbody>\n",
       "</table>\n",
       "</div>"
      ],
      "text/plain": [
       "   sentiment                                              tweet\n",
       "0          0  @switchfoot http://twitpic.com/2y1zl - Awww, t...\n",
       "1          0  is upset that he can't update his Facebook by ...\n",
       "2          0  @Kenichan I dived many times for the ball. Man...\n",
       "3          0    my whole body feels itchy and like its on fire \n",
       "4          0  @nationwideclass no, it's not behaving at all...."
      ]
     },
     "execution_count": 37,
     "metadata": {},
     "output_type": "execute_result"
    }
   ],
   "source": [
    "dataset = dataset[['sentiment', 'tweet']]\n",
    "dataset.head()"
   ]
  },
  {
   "cell_type": "code",
   "execution_count": 38,
   "id": "320ba2d0",
   "metadata": {
    "papermill": {
     "duration": 0.038856,
     "end_time": "2023-09-11T14:02:54.603257",
     "exception": false,
     "start_time": "2023-09-11T14:02:54.564401",
     "status": "completed"
    },
    "tags": []
   },
   "outputs": [
    {
     "data": {
      "text/plain": [
       "array([0, 4])"
      ]
     },
     "execution_count": 38,
     "metadata": {},
     "output_type": "execute_result"
    }
   ],
   "source": [
    "#unique values of sentiment\n",
    "dataset['sentiment'].unique()"
   ]
  },
  {
   "cell_type": "code",
   "execution_count": 39,
   "id": "8787be07",
   "metadata": {
    "papermill": {
     "duration": 0.03752,
     "end_time": "2023-09-11T14:02:54.658448",
     "exception": false,
     "start_time": "2023-09-11T14:02:54.620928",
     "status": "completed"
    },
    "tags": []
   },
   "outputs": [],
   "source": [
    "#replacing 4 with 1 for positive sentiment\n",
    "dataset['sentiment'] = dataset['sentiment'].replace(4,1)"
   ]
  },
  {
   "cell_type": "code",
   "execution_count": 40,
   "id": "b4c26e2a",
   "metadata": {
    "papermill": {
     "duration": 0.046987,
     "end_time": "2023-09-11T14:02:54.722443",
     "exception": false,
     "start_time": "2023-09-11T14:02:54.675456",
     "status": "completed"
    },
    "tags": []
   },
   "outputs": [
    {
     "data": {
      "text/plain": [
       "sentiment\n",
       "0    800000\n",
       "1    800000\n",
       "Name: count, dtype: int64"
      ]
     },
     "execution_count": 40,
     "metadata": {},
     "output_type": "execute_result"
    }
   ],
   "source": [
    "dataset['sentiment'].value_counts()"
   ]
  },
  {
   "cell_type": "markdown",
   "id": "e7777b9b",
   "metadata": {
    "papermill": {
     "duration": 0.016301,
     "end_time": "2023-09-11T14:02:54.755320",
     "exception": false,
     "start_time": "2023-09-11T14:02:54.739019",
     "status": "completed"
    },
    "tags": []
   },
   "source": [
    "**Preprocessing the Text**"
   ]
  },
  {
   "cell_type": "code",
   "execution_count": 43,
   "id": "5b3e8c9c",
   "metadata": {
    "papermill": {
     "duration": 0.034283,
     "end_time": "2023-09-11T14:02:54.838825",
     "exception": false,
     "start_time": "2023-09-11T14:02:54.804542",
     "status": "completed"
    },
    "tags": []
   },
   "outputs": [],
   "source": [
    "# Reading contractions.csv and storing it as a dict.\n",
    "contractions = pd.read_csv('/Users/yogeshneupane/Downloads/mlpfinal/Sentiment_Analysis_Using_DeepLearning_BERT/Dataset/contractions.csv', index_col='Contraction')\n",
    "contractions.index = contractions.index.str.lower()\n",
    "contractions.Meaning = contractions.Meaning.str.lower()\n",
    "contractions_dict = contractions.to_dict()['Meaning']"
   ]
  },
  {
   "cell_type": "code",
   "execution_count": 44,
   "id": "5fcf411b",
   "metadata": {
    "papermill": {
     "duration": 0.03171,
     "end_time": "2023-09-11T14:02:54.926854",
     "exception": false,
     "start_time": "2023-09-11T14:02:54.895144",
     "status": "completed"
    },
    "tags": []
   },
   "outputs": [
    {
     "data": {
      "text/plain": [
       "{\"'aight\": 'alright',\n",
       " \"ain't\": 'is not',\n",
       " \"amn't\": 'am not',\n",
       " \"aren't\": 'are not',\n",
       " \"can't\": 'cannot',\n",
       " \"'cause\": 'because',\n",
       " \"could've\": 'could have',\n",
       " \"couldn't\": 'could not',\n",
       " \"couldn't've\": 'could not have',\n",
       " \"daren't\": 'dare not',\n",
       " \"daresn't\": 'dare not',\n",
       " \"dasn't\": 'dare not',\n",
       " \"didn't\": 'did not',\n",
       " \"doesn't\": 'does not',\n",
       " \"don't\": 'do not',\n",
       " 'dunno': 'do not know',\n",
       " \"d'ye\": 'do you',\n",
       " \"e'er\": 'ever',\n",
       " \"everybody's\": 'everybody is',\n",
       " \"everyone's\": 'everyone is',\n",
       " 'finna': 'fixing',\n",
       " \"g'day\": 'good day',\n",
       " 'gimme': 'give me',\n",
       " \"giv'n\": 'given',\n",
       " 'gonna': 'going to',\n",
       " \"gon't\": 'go not',\n",
       " 'gotta': 'got to',\n",
       " \"hadn't\": 'had not',\n",
       " \"had've\": 'had have',\n",
       " \"hasn't\": 'has not',\n",
       " \"haven't\": 'have not',\n",
       " \"he'd\": 'he had',\n",
       " \"he'll\": 'he will',\n",
       " \"he's\": 'he is',\n",
       " \"he've\": 'he have',\n",
       " \"how'd\": 'how did',\n",
       " 'howdy': 'how do you do',\n",
       " \"how'll\": 'how will',\n",
       " \"how're\": 'how are',\n",
       " \"how's\": 'how is',\n",
       " \"i'd\\ti\": 'had',\n",
       " \"i'd've\": 'i would have',\n",
       " \"i'll\": 'i will',\n",
       " \"i'm\": 'i am',\n",
       " \"i'm'a\": 'i am about to',\n",
       " \"i'm'o\": 'i am going to',\n",
       " 'innit': 'is it not',\n",
       " \"i've\": 'i have',\n",
       " \"isn't\": 'is not',\n",
       " \"it'd\": 'it would',\n",
       " \"it'll\": 'it will',\n",
       " \"it's\": 'it is',\n",
       " 'iunno': 'i do not know',\n",
       " \"let's\": 'let us',\n",
       " \"ma'am\": 'madam',\n",
       " \"mayn't\": 'may not',\n",
       " \"may've\": 'may have',\n",
       " 'methinks': 'me thinks',\n",
       " \"mightn't\": 'might not',\n",
       " \"might've\": 'might have',\n",
       " \"mustn't\": 'must not',\n",
       " \"mustn't've\": 'must not have',\n",
       " \"must've\": 'must have',\n",
       " \"needn't\": 'need not',\n",
       " \"ne'er\": 'never',\n",
       " \"o'clock\": 'of the clock',\n",
       " \"o'er\": 'over',\n",
       " \"ol'\": 'old',\n",
       " \"oughtn't\": 'ought not',\n",
       " \"'s\": 'is',\n",
       " \"shalln't\": 'shall not',\n",
       " \"shan't\": 'shall not',\n",
       " \"she'd\": 'she had',\n",
       " \"she'll\": 'she shall',\n",
       " \"she's\": 'she has',\n",
       " \"should've\": 'should have',\n",
       " \"shouldn't\": 'should not',\n",
       " \"shouldn't've\": 'should not have',\n",
       " \"somebody's\": 'somebody is',\n",
       " \"someone's\": 'someone is',\n",
       " \"something's\": 'something is',\n",
       " \"so're\": 'so are',\n",
       " \"that'll\": 'that will',\n",
       " \"that're\": 'that are',\n",
       " \"that's\": 'that is',\n",
       " \"that'd\": 'that would',\n",
       " \"there'd\": 'there would',\n",
       " \"there'll\": 'there will',\n",
       " \"there're\": 'there are',\n",
       " \"there's\": 'there is',\n",
       " \"these're\": 'these are',\n",
       " \"these've\": 'these have',\n",
       " \"they'd\": 'they would',\n",
       " \"they'll\": 'they will',\n",
       " \"they're\": 'they are',\n",
       " \"they've\": 'they have',\n",
       " \"this's\": 'this is',\n",
       " \"those're\": 'those are',\n",
       " \"those've\": 'those have',\n",
       " \"'tis\": 'it is',\n",
       " \"to've\": 'to have',\n",
       " \"'twas\": 'it was',\n",
       " 'wanna': 'want to',\n",
       " \"wasn't\": 'was not',\n",
       " \"we'd\": 'we would',\n",
       " \"we'd've\": 'we would have',\n",
       " \"we'll\": 'we will',\n",
       " \"we're\": 'we are',\n",
       " \"we've\": 'we have',\n",
       " \"weren't\": 'were not',\n",
       " \"what'd\": 'what did',\n",
       " \"what'll\": 'what will',\n",
       " \"what're\": 'what are',\n",
       " \"what's\": 'what is',\n",
       " \"what've\": 'what have',\n",
       " \"when's\": 'when is',\n",
       " \"where'd\": 'where did',\n",
       " \"where'll\": 'where will',\n",
       " \"where're\": 'where are',\n",
       " \"where's\": 'where is',\n",
       " \"where've\": 'where have',\n",
       " \"which'd\": 'which would',\n",
       " \"which'll\": 'which will',\n",
       " \"which're\": 'which are',\n",
       " \"which's\": 'which is',\n",
       " \"which've\": 'which have',\n",
       " \"who'd\": 'who would',\n",
       " \"who'd've\": 'who would have',\n",
       " \"who'll\": 'who will',\n",
       " \"who're\": 'who are',\n",
       " \"who's\": 'who is',\n",
       " \"who've\": 'who have',\n",
       " \"why'd\": 'why did',\n",
       " \"why're\": 'why are',\n",
       " \"why's\": 'why is',\n",
       " \"willn't\": 'will not ',\n",
       " \"won't\": 'will not',\n",
       " 'wonnot': 'will not ',\n",
       " \"would've\": 'would have',\n",
       " \"wouldn't\": 'would not',\n",
       " \"wouldn't've\": 'would not have',\n",
       " \"y'all\": 'you all ',\n",
       " \"y'all'd've\": 'you all would have ',\n",
       " \"y'all're\": 'you all are ',\n",
       " \"you'd\": 'you would',\n",
       " \"you'll\": 'you will',\n",
       " \"you're\": 'you are',\n",
       " \"you've\": 'you have'}"
      ]
     },
     "execution_count": 44,
     "metadata": {},
     "output_type": "execute_result"
    }
   ],
   "source": [
    "contractions_dict"
   ]
  },
  {
   "cell_type": "code",
   "execution_count": 45,
   "id": "5bb3b425",
   "metadata": {
    "papermill": {
     "duration": 0.029919,
     "end_time": "2023-09-11T14:02:54.973503",
     "exception": false,
     "start_time": "2023-09-11T14:02:54.943584",
     "status": "completed"
    },
    "tags": []
   },
   "outputs": [
    {
     "name": "stderr",
     "output_type": "stream",
     "text": [
      "<>:3: SyntaxWarning: invalid escape sequence '\\s'\n",
      "<>:4: SyntaxWarning: invalid escape sequence '\\s'\n",
      "<>:3: SyntaxWarning: invalid escape sequence '\\s'\n",
      "<>:4: SyntaxWarning: invalid escape sequence '\\s'\n",
      "/var/folders/1d/hmqdpp213614518cm1194z3w0000gn/T/ipykernel_35668/1946342943.py:3: SyntaxWarning: invalid escape sequence '\\s'\n",
      "  userPattern       = '@[^\\s]+'\n",
      "/var/folders/1d/hmqdpp213614518cm1194z3w0000gn/T/ipykernel_35668/1946342943.py:4: SyntaxWarning: invalid escape sequence '\\s'\n",
      "  hashtagPattern    = '#[^\\s]+'\n"
     ]
    }
   ],
   "source": [
    "# Defining regex patterns.\n",
    "urlPattern        = r\"((http://)[^ ]*|(https://)[^ ]*|(www\\.)[^ ]*)\"\n",
    "userPattern       = '@[^\\s]+'\n",
    "hashtagPattern    = '#[^\\s]+'\n",
    "alphaPattern      = \"[^a-z0-9<>]\"\n",
    "sequencePattern   = r\"(.)\\1\\1+\"\n",
    "seqReplacePattern = r\"\\1\\1\"\n",
    "\n",
    "# Defining regex for emojis\n",
    "smileemoji        = r\"[8:=;]['`\\-]?[)d]+\"\n",
    "sademoji          = r\"[8:=;]['`\\-]?\\(+\"\n",
    "neutralemoji      = r\"[8:=;]['`\\-]?[\\/|l*]\"\n",
    "lolemoji          = r\"[8:=;]['`\\-]?p+\"\n",
    "\n",
    "def preprocess_apply(tweet):\n",
    "\n",
    "    tweet = tweet.lower()\n",
    "\n",
    "    # Replace all URls with '<url>'\n",
    "    tweet = re.sub(urlPattern,'<url>',tweet)\n",
    "    \n",
    "    # Replace @USERNAME to '<user>'.\n",
    "    tweet = re.sub(userPattern,'<user>', tweet)\n",
    "\n",
    "    # Replace all emojis.\n",
    "    tweet = re.sub(r'<3', '<heart>', tweet)\n",
    "    tweet = re.sub(smileemoji, '<smile>', tweet)\n",
    "    tweet = re.sub(sademoji, '<sadface>', tweet)\n",
    "    tweet = re.sub(neutralemoji, '<neutralface>', tweet)\n",
    "    tweet = re.sub(lolemoji, '<lolface>', tweet)\n",
    "\n",
    "    for contraction, replacement in contractions_dict.items():\n",
    "        tweet = tweet.replace(contraction, replacement)\n",
    "\n",
    "    # Remove non-alphanumeric and symbols\n",
    "    tweet = re.sub(alphaPattern, ' ', tweet)\n",
    "\n",
    "    # Adding space on either side of '/' to seperate words (After replacing URLS).\n",
    "    tweet = re.sub(r'/', ' / ', tweet)\n",
    "    return tweet"
   ]
  },
  {
   "cell_type": "code",
   "execution_count": 46,
   "id": "24dbffc4",
   "metadata": {
    "papermill": {
     "duration": 120.369849,
     "end_time": "2023-09-11T14:04:55.360176",
     "exception": false,
     "start_time": "2023-09-11T14:02:54.990327",
     "status": "completed"
    },
    "tags": []
   },
   "outputs": [],
   "source": [
    "dataset['processed_text'] = dataset.tweet.apply(preprocess_apply)"
   ]
  },
  {
   "cell_type": "code",
   "execution_count": 47,
   "id": "5bf7e71a",
   "metadata": {
    "papermill": {
     "duration": 0.030889,
     "end_time": "2023-09-11T14:04:55.408699",
     "exception": false,
     "start_time": "2023-09-11T14:04:55.377810",
     "status": "completed"
    },
    "tags": []
   },
   "outputs": [
    {
     "data": {
      "text/html": [
       "<div>\n",
       "<style scoped>\n",
       "    .dataframe tbody tr th:only-of-type {\n",
       "        vertical-align: middle;\n",
       "    }\n",
       "\n",
       "    .dataframe tbody tr th {\n",
       "        vertical-align: top;\n",
       "    }\n",
       "\n",
       "    .dataframe thead th {\n",
       "        text-align: right;\n",
       "    }\n",
       "</style>\n",
       "<table border=\"1\" class=\"dataframe\">\n",
       "  <thead>\n",
       "    <tr style=\"text-align: right;\">\n",
       "      <th></th>\n",
       "      <th>sentiment</th>\n",
       "      <th>tweet</th>\n",
       "      <th>processed_text</th>\n",
       "    </tr>\n",
       "  </thead>\n",
       "  <tbody>\n",
       "    <tr>\n",
       "      <th>0</th>\n",
       "      <td>0</td>\n",
       "      <td>@switchfoot http://twitpic.com/2y1zl - Awww, t...</td>\n",
       "      <td>&lt;user&gt; &lt;url&gt;   awww  thatis a bummer   you sho...</td>\n",
       "    </tr>\n",
       "    <tr>\n",
       "      <th>1</th>\n",
       "      <td>0</td>\n",
       "      <td>is upset that he can't update his Facebook by ...</td>\n",
       "      <td>is upset that he cannot update his facebook by...</td>\n",
       "    </tr>\n",
       "    <tr>\n",
       "      <th>2</th>\n",
       "      <td>0</td>\n",
       "      <td>@Kenichan I dived many times for the ball. Man...</td>\n",
       "      <td>&lt;user&gt; i dived many times for the ball  manage...</td>\n",
       "    </tr>\n",
       "    <tr>\n",
       "      <th>3</th>\n",
       "      <td>0</td>\n",
       "      <td>my whole body feels itchy and like its on fire</td>\n",
       "      <td>my whole body feels itchy and like its on fire</td>\n",
       "    </tr>\n",
       "    <tr>\n",
       "      <th>4</th>\n",
       "      <td>0</td>\n",
       "      <td>@nationwideclass no, it's not behaving at all....</td>\n",
       "      <td>&lt;user&gt; no  it is not behaving at all  i am mad...</td>\n",
       "    </tr>\n",
       "  </tbody>\n",
       "</table>\n",
       "</div>"
      ],
      "text/plain": [
       "   sentiment                                              tweet  \\\n",
       "0          0  @switchfoot http://twitpic.com/2y1zl - Awww, t...   \n",
       "1          0  is upset that he can't update his Facebook by ...   \n",
       "2          0  @Kenichan I dived many times for the ball. Man...   \n",
       "3          0    my whole body feels itchy and like its on fire    \n",
       "4          0  @nationwideclass no, it's not behaving at all....   \n",
       "\n",
       "                                      processed_text  \n",
       "0  <user> <url>   awww  thatis a bummer   you sho...  \n",
       "1  is upset that he cannot update his facebook by...  \n",
       "2  <user> i dived many times for the ball  manage...  \n",
       "3    my whole body feels itchy and like its on fire   \n",
       "4  <user> no  it is not behaving at all  i am mad...  "
      ]
     },
     "execution_count": 47,
     "metadata": {},
     "output_type": "execute_result"
    }
   ],
   "source": [
    "dataset.head()"
   ]
  },
  {
   "cell_type": "code",
   "execution_count": 48,
   "id": "4e1137e4",
   "metadata": {
    "papermill": {
     "duration": 0.027264,
     "end_time": "2023-09-11T14:04:55.454009",
     "exception": false,
     "start_time": "2023-09-11T14:04:55.426745",
     "status": "completed"
    },
    "tags": []
   },
   "outputs": [
    {
     "data": {
      "text/plain": [
       "\"@switchfoot http://twitpic.com/2y1zl - Awww, that's a bummer.  You shoulda got David Carr of Third Day to do it. ;D\""
      ]
     },
     "execution_count": 48,
     "metadata": {},
     "output_type": "execute_result"
    }
   ],
   "source": [
    "dataset['tweet'][0]"
   ]
  },
  {
   "cell_type": "code",
   "execution_count": 49,
   "id": "97e80d1c",
   "metadata": {
    "papermill": {
     "duration": 0.026511,
     "end_time": "2023-09-11T14:04:55.498719",
     "exception": false,
     "start_time": "2023-09-11T14:04:55.472208",
     "status": "completed"
    },
    "tags": []
   },
   "outputs": [
    {
     "data": {
      "text/plain": [
       "'<user> <url>   awww  thatis a bummer   you shoulda got david carr of third day to do it  <smile>'"
      ]
     },
     "execution_count": 49,
     "metadata": {},
     "output_type": "execute_result"
    }
   ],
   "source": [
    "dataset['processed_text'][0]"
   ]
  },
  {
   "cell_type": "markdown",
   "id": "3488b006",
   "metadata": {},
   "source": [
    "# Split the Dataset"
   ]
  },
  {
   "cell_type": "code",
   "execution_count": 51,
   "id": "922e8dab",
   "metadata": {
    "papermill": {
     "duration": 0.751467,
     "end_time": "2023-09-11T14:04:58.242229",
     "exception": false,
     "start_time": "2023-09-11T14:04:57.490762",
     "status": "completed"
    },
    "tags": []
   },
   "outputs": [],
   "source": [
    "X_data, y_data = np.array(dataset['processed_text']), np.array(dataset['sentiment'])\n",
    "\n",
    "X_train, X_test, y_train, y_test = train_test_split(X_data, y_data, test_size=0.2, random_state=32, stratify=y_data)"
   ]
  },
  {
   "cell_type": "code",
   "execution_count": 52,
   "id": "18902128",
   "metadata": {
    "papermill": {
     "duration": 0.026837,
     "end_time": "2023-09-11T14:04:58.287088",
     "exception": false,
     "start_time": "2023-09-11T14:04:58.260251",
     "status": "completed"
    },
    "tags": []
   },
   "outputs": [
    {
     "data": {
      "text/plain": [
       "((1280000,), (320000,))"
      ]
     },
     "execution_count": 52,
     "metadata": {},
     "output_type": "execute_result"
    }
   ],
   "source": [
    "X_train.shape, X_test.shape"
   ]
  },
  {
   "cell_type": "code",
   "execution_count": 53,
   "id": "7f083c82",
   "metadata": {
    "papermill": {
     "duration": 0.026685,
     "end_time": "2023-09-11T14:04:58.331271",
     "exception": false,
     "start_time": "2023-09-11T14:04:58.304586",
     "status": "completed"
    },
    "tags": []
   },
   "outputs": [
    {
     "data": {
      "text/plain": [
       "((1280000,), (320000,))"
      ]
     },
     "execution_count": 53,
     "metadata": {},
     "output_type": "execute_result"
    }
   ],
   "source": [
    "y_train.shape, y_test.shape"
   ]
  },
  {
   "cell_type": "markdown",
   "id": "c301027d",
   "metadata": {},
   "source": [
    "# Construction of Embedding Matrix\n",
    "Steps are:\n",
    "\n",
    "    1.Word Embedding\n",
    "\n",
    "    2. Tokenization\n",
    "    \n",
    "    3. Adding Pad Sequence"
   ]
  },
  {
   "cell_type": "markdown",
   "id": "ff387621",
   "metadata": {
    "papermill": {
     "duration": 0.018075,
     "end_time": "2023-09-11T14:04:58.367319",
     "exception": false,
     "start_time": "2023-09-11T14:04:58.349244",
     "status": "completed"
    },
    "tags": []
   },
   "source": [
    "### Creating Word Embedding Using Word2Vec"
   ]
  },
  {
   "cell_type": "code",
   "execution_count": 56,
   "id": "97794167",
   "metadata": {
    "papermill": {
     "duration": 14.92208,
     "end_time": "2023-09-11T14:05:13.307753",
     "exception": false,
     "start_time": "2023-09-11T14:04:58.385673",
     "status": "completed"
    },
    "tags": []
   },
   "outputs": [],
   "source": [
    "from gensim.models import Word2Vec\n",
    "\n",
    "Embedding_dimensions = 100\n",
    "\n",
    "#creating the List of words for training data\n",
    "Word2Vec_training_data = list(map(lambda x: x.split(), X_train))"
   ]
  },
  {
   "cell_type": "code",
   "execution_count": 57,
   "id": "df55e14b",
   "metadata": {
    "papermill": {
     "duration": 0.028759,
     "end_time": "2023-09-11T14:05:13.355119",
     "exception": false,
     "start_time": "2023-09-11T14:05:13.326360",
     "status": "completed"
    },
    "tags": []
   },
   "outputs": [
    {
     "data": {
      "text/plain": [
       "['<user>',\n",
       " 'just',\n",
       " 'remember',\n",
       " 'all',\n",
       " 'the',\n",
       " 'scary',\n",
       " 'movies',\n",
       " 'w',\n",
       " 'garbage',\n",
       " 'disposalis',\n",
       " 'before',\n",
       " 'retrieving',\n",
       " 'the',\n",
       " 'spoon']"
      ]
     },
     "execution_count": 57,
     "metadata": {},
     "output_type": "execute_result"
    }
   ],
   "source": [
    "Word2Vec_training_data[0]"
   ]
  },
  {
   "cell_type": "code",
   "execution_count": 58,
   "id": "bf222a24",
   "metadata": {
    "papermill": {
     "duration": 103.513789,
     "end_time": "2023-09-11T14:06:56.886670",
     "exception": false,
     "start_time": "2023-09-11T14:05:13.372881",
     "status": "completed"
    },
    "tags": []
   },
   "outputs": [],
   "source": [
    "word2vec_model = Word2Vec(Word2Vec_training_data,\n",
    "                        vector_size=Embedding_dimensions,\n",
    "                        workers=8,\n",
    "                        min_count=5)"
   ]
  },
  {
   "cell_type": "code",
   "execution_count": 59,
   "id": "0ab75636",
   "metadata": {
    "papermill": {
     "duration": 0.030886,
     "end_time": "2023-09-11T14:06:56.936685",
     "exception": false,
     "start_time": "2023-09-11T14:06:56.905799",
     "status": "completed"
    },
    "tags": []
   },
   "outputs": [
    {
     "data": {
      "text/plain": [
       "array([ 0.3219578 ,  1.0207459 ,  0.658847  ,  1.9639752 ,  1.2122068 ,\n",
       "        1.0141326 , -0.8130582 , -0.18525587, -0.0889669 , -1.7661029 ,\n",
       "        0.88217604, -1.9491593 , -0.03874366,  0.795603  ,  1.0621217 ,\n",
       "        0.6835049 ,  1.3552495 , -0.36088318, -0.62225354, -0.35545394,\n",
       "       -1.6426637 , -0.43615407, -0.6568694 , -0.8042608 , -0.4864159 ,\n",
       "       -0.3149513 , -1.1232446 ,  0.8295055 ,  0.606312  ,  0.15970446,\n",
       "       -0.5779148 , -1.028756  , -0.02663776, -1.378916  , -0.25824404,\n",
       "       -0.85720336,  1.3971751 ,  1.3433185 , -0.886102  ,  1.4936882 ,\n",
       "        0.1974201 ,  0.6182079 , -2.575408  ,  2.0551755 ,  0.88037026,\n",
       "        0.94035923, -1.2779634 , -0.52477014,  0.8354088 ,  1.0320779 ,\n",
       "        0.7154032 ,  1.0079939 ,  0.81384075,  0.601857  ,  1.3936635 ,\n",
       "       -0.7053789 , -0.2241913 , -1.1319053 ,  0.3560236 ,  1.2297975 ,\n",
       "       -0.41025916,  1.3788797 ,  0.385205  ,  1.0054297 , -1.1738664 ,\n",
       "       -0.02713777,  1.0499305 ,  0.59475493, -0.3678805 ,  1.2634817 ,\n",
       "        0.07331926, -1.3103663 ,  1.1163341 , -1.6163038 , -1.2355163 ,\n",
       "        0.75882584,  0.87077034,  1.4498725 , -1.5183483 , -2.399612  ,\n",
       "       -1.8908273 , -0.00591163,  1.0894163 ,  0.9531744 , -0.9895763 ,\n",
       "       -1.4187841 ,  0.8086618 , -0.6508343 , -1.9944642 ,  0.27242813,\n",
       "        2.4817963 , -0.23713733,  0.18798186,  0.72299427,  2.0558395 ,\n",
       "        0.7585936 ,  0.45077467,  2.2431638 , -1.372334  ,  2.635895  ],\n",
       "      dtype=float32)"
      ]
     },
     "execution_count": 59,
     "metadata": {},
     "output_type": "execute_result"
    }
   ],
   "source": [
    "word2vec_model.wv[1]"
   ]
  },
  {
   "cell_type": "markdown",
   "id": "995f0d6d",
   "metadata": {},
   "source": [
    "### Tokenization"
   ]
  },
  {
   "cell_type": "code",
   "execution_count": 61,
   "id": "66e85d35",
   "metadata": {
    "papermill": {
     "duration": 27.037254,
     "end_time": "2023-09-11T14:07:38.643790",
     "exception": false,
     "start_time": "2023-09-11T14:07:11.606536",
     "status": "completed"
    },
    "tags": []
   },
   "outputs": [],
   "source": [
    "vocab_length = 60000\n",
    "\n",
    "tokenizer = Tokenizer(filters=\"\", lower=False, oov_token=\"<oov>\")\n",
    "tokenizer.fit_on_texts(X_data)\n",
    "tokenizer.num_words = vocab_length\n",
    "# print(\"Tokenizer vocab length:\", vocab_length)"
   ]
  },
  {
   "cell_type": "markdown",
   "id": "64bfd399",
   "metadata": {},
   "source": [
    "### Padding"
   ]
  },
  {
   "cell_type": "code",
   "execution_count": 63,
   "id": "43cf6d7f",
   "metadata": {
    "papermill": {
     "duration": 0.026796,
     "end_time": "2023-09-11T14:07:38.689431",
     "exception": false,
     "start_time": "2023-09-11T14:07:38.662635",
     "status": "completed"
    },
    "tags": []
   },
   "outputs": [],
   "source": [
    "input_length = 60"
   ]
  },
  {
   "cell_type": "code",
   "execution_count": 64,
   "id": "8082d074",
   "metadata": {
    "papermill": {
     "duration": 31.768217,
     "end_time": "2023-09-11T14:08:10.475812",
     "exception": false,
     "start_time": "2023-09-11T14:07:38.707595",
     "status": "completed"
    },
    "tags": []
   },
   "outputs": [
    {
     "name": "stdout",
     "output_type": "stream",
     "text": [
      "X_train.shape: (1280000, 60)\n",
      "X_test.shape : (320000, 60)\n"
     ]
    }
   ],
   "source": [
    "X_train = pad_sequences(tokenizer.texts_to_sequences(X_train), maxlen=input_length)\n",
    "X_test  = pad_sequences(tokenizer.texts_to_sequences(X_test) , maxlen=input_length)\n",
    "\n",
    "print(\"X_train.shape:\", X_train.shape)\n",
    "print(\"X_test.shape :\", X_test.shape)"
   ]
  },
  {
   "cell_type": "code",
   "execution_count": 65,
   "id": "50877068",
   "metadata": {
    "papermill": {
     "duration": 0.03025,
     "end_time": "2023-09-11T14:08:10.524414",
     "exception": false,
     "start_time": "2023-09-11T14:08:10.494164",
     "status": "completed"
    },
    "tags": []
   },
   "outputs": [],
   "source": [
    "# X_train[0]"
   ]
  },
  {
   "cell_type": "code",
   "execution_count": 66,
   "id": "5599ecc4",
   "metadata": {
    "papermill": {
     "duration": 0.077503,
     "end_time": "2023-09-11T14:08:10.621462",
     "exception": false,
     "start_time": "2023-09-11T14:08:10.543959",
     "status": "completed"
    },
    "tags": []
   },
   "outputs": [],
   "source": [
    "# second_key, second_value = list(tokenizer.word_index.items())[1]\n",
    "# print(\"Second Key:\", second_key)\n",
    "# print(\"Second Value:\", second_value)"
   ]
  },
  {
   "cell_type": "markdown",
   "id": "08806f0a",
   "metadata": {},
   "source": [
    "### Embedding Matrix"
   ]
  },
  {
   "cell_type": "code",
   "execution_count": 68,
   "id": "562f21b6",
   "metadata": {
    "papermill": {
     "duration": 0.587391,
     "end_time": "2023-09-11T14:08:11.227923",
     "exception": false,
     "start_time": "2023-09-11T14:08:10.640532",
     "status": "completed"
    },
    "tags": []
   },
   "outputs": [
    {
     "name": "stdout",
     "output_type": "stream",
     "text": [
      "Embedding Matrix Shape: (60000, 100)\n"
     ]
    }
   ],
   "source": [
    "embedding_matrix = np.zeros((vocab_length, Embedding_dimensions))\n",
    "\n",
    "for word, token in tokenizer.word_index.items():\n",
    "    if word2vec_model.wv.__contains__(word):\n",
    "        embedding_matrix[token] = word2vec_model.wv.__getitem__(word)\n",
    "\n",
    "print(\"Embedding Matrix Shape:\", embedding_matrix.shape)"
   ]
  },
  {
   "cell_type": "code",
   "execution_count": 69,
   "id": "186f367a",
   "metadata": {
    "papermill": {
     "duration": 0.070821,
     "end_time": "2023-09-11T14:08:11.317613",
     "exception": false,
     "start_time": "2023-09-11T14:08:11.246792",
     "status": "completed"
    },
    "tags": []
   },
   "outputs": [],
   "source": [
    "# Reverse the mapping of tokens to words\n",
    "index_to_word = {token: word for word, token in tokenizer.word_index.items()}\n",
    "# fifth_word = index_to_word[5]\n",
    "# fifth_word"
   ]
  },
  {
   "cell_type": "code",
   "execution_count": 70,
   "id": "d119f3b6",
   "metadata": {
    "papermill": {
     "duration": 0.029242,
     "end_time": "2023-09-11T14:08:11.365987",
     "exception": false,
     "start_time": "2023-09-11T14:08:11.336745",
     "status": "completed"
    },
    "tags": []
   },
   "outputs": [],
   "source": [
    "# embedding_matrix[5]"
   ]
  },
  {
   "cell_type": "code",
   "execution_count": 71,
   "id": "1309c45e",
   "metadata": {
    "papermill": {
     "duration": 0.050012,
     "end_time": "2023-09-11T14:08:11.435304",
     "exception": false,
     "start_time": "2023-09-11T14:08:11.385292",
     "status": "completed"
    },
    "tags": []
   },
   "outputs": [],
   "source": [
    "# word2vec_model.wv.most_similar('man')"
   ]
  },
  {
   "cell_type": "markdown",
   "id": "59a9d7c4",
   "metadata": {
    "papermill": {
     "duration": 0.045496,
     "end_time": "2023-09-11T14:08:11.527954",
     "exception": false,
     "start_time": "2023-09-11T14:08:11.482458",
     "status": "completed"
    },
    "tags": []
   },
   "source": [
    "# Simple RNN\n",
    "\n",
    "1. Define the Model Architecture\n",
    "\n",
    "2. Train on training data\n",
    "\n",
    "3. Evaluate model's performance\n",
    "\n",
    "4. Save the model\n",
    "\n",
    "5. Test on new unseen data"
   ]
  },
  {
   "cell_type": "code",
   "execution_count": 73,
   "id": "4fe51922",
   "metadata": {
    "papermill": {
     "duration": 0.028746,
     "end_time": "2023-09-11T14:08:11.640828",
     "exception": false,
     "start_time": "2023-09-11T14:08:11.612082",
     "status": "completed"
    },
    "tags": []
   },
   "outputs": [],
   "source": [
    "def getModel():\n",
    "    embedding_layer = Embedding(input_dim = vocab_length,\n",
    "                                output_dim = Embedding_dimensions,\n",
    "                                weights=[embedding_matrix],\n",
    "                                input_length=input_length,\n",
    "                                trainable=False)\n",
    "\n",
    "    model = Sequential([\n",
    "        embedding_layer,\n",
    "        SimpleRNN(100, return_sequences=False),\n",
    "        Dense(16, activation='relu'),\n",
    "        Dense(1, activation='sigmoid'),\n",
    "    ],\n",
    "    name=\"Sentiment_Model_Simple_RNN\")\n",
    "    return model"
   ]
  },
  {
   "cell_type": "code",
   "execution_count": 74,
   "id": "57d7b293",
   "metadata": {
    "papermill": {
     "duration": 6.486823,
     "end_time": "2023-09-11T14:08:18.147088",
     "exception": false,
     "start_time": "2023-09-11T14:08:11.660265",
     "status": "completed"
    },
    "tags": []
   },
   "outputs": [
    {
     "name": "stderr",
     "output_type": "stream",
     "text": [
      "/opt/anaconda3/lib/python3.12/site-packages/keras/src/layers/core/embedding.py:90: UserWarning: Argument `input_length` is deprecated. Just remove it.\n",
      "  warnings.warn(\n"
     ]
    },
    {
     "data": {
      "text/html": [
       "<pre style=\"white-space:pre;overflow-x:auto;line-height:normal;font-family:Menlo,'DejaVu Sans Mono',consolas,'Courier New',monospace\"><span style=\"font-weight: bold\">Model: \"Sentiment_Model_Simple_RNN\"</span>\n",
       "</pre>\n"
      ],
      "text/plain": [
       "\u001b[1mModel: \"Sentiment_Model_Simple_RNN\"\u001b[0m\n"
      ]
     },
     "metadata": {},
     "output_type": "display_data"
    },
    {
     "data": {
      "text/html": [
       "<pre style=\"white-space:pre;overflow-x:auto;line-height:normal;font-family:Menlo,'DejaVu Sans Mono',consolas,'Courier New',monospace\">┏━━━━━━━━━━━━━━━━━━━━━━━━━━━━━━━━━┳━━━━━━━━━━━━━━━━━━━━━━━━┳━━━━━━━━━━━━━━━┓\n",
       "┃<span style=\"font-weight: bold\"> Layer (type)                    </span>┃<span style=\"font-weight: bold\"> Output Shape           </span>┃<span style=\"font-weight: bold\">       Param # </span>┃\n",
       "┡━━━━━━━━━━━━━━━━━━━━━━━━━━━━━━━━━╇━━━━━━━━━━━━━━━━━━━━━━━━╇━━━━━━━━━━━━━━━┩\n",
       "│ embedding (<span style=\"color: #0087ff; text-decoration-color: #0087ff\">Embedding</span>)           │ ?                      │     <span style=\"color: #00af00; text-decoration-color: #00af00\">6,000,000</span> │\n",
       "├─────────────────────────────────┼────────────────────────┼───────────────┤\n",
       "│ simple_rnn (<span style=\"color: #0087ff; text-decoration-color: #0087ff\">SimpleRNN</span>)          │ ?                      │   <span style=\"color: #00af00; text-decoration-color: #00af00\">0</span> (unbuilt) │\n",
       "├─────────────────────────────────┼────────────────────────┼───────────────┤\n",
       "│ dense (<span style=\"color: #0087ff; text-decoration-color: #0087ff\">Dense</span>)                   │ ?                      │   <span style=\"color: #00af00; text-decoration-color: #00af00\">0</span> (unbuilt) │\n",
       "├─────────────────────────────────┼────────────────────────┼───────────────┤\n",
       "│ dense_1 (<span style=\"color: #0087ff; text-decoration-color: #0087ff\">Dense</span>)                 │ ?                      │   <span style=\"color: #00af00; text-decoration-color: #00af00\">0</span> (unbuilt) │\n",
       "└─────────────────────────────────┴────────────────────────┴───────────────┘\n",
       "</pre>\n"
      ],
      "text/plain": [
       "┏━━━━━━━━━━━━━━━━━━━━━━━━━━━━━━━━━┳━━━━━━━━━━━━━━━━━━━━━━━━┳━━━━━━━━━━━━━━━┓\n",
       "┃\u001b[1m \u001b[0m\u001b[1mLayer (type)                   \u001b[0m\u001b[1m \u001b[0m┃\u001b[1m \u001b[0m\u001b[1mOutput Shape          \u001b[0m\u001b[1m \u001b[0m┃\u001b[1m \u001b[0m\u001b[1m      Param #\u001b[0m\u001b[1m \u001b[0m┃\n",
       "┡━━━━━━━━━━━━━━━━━━━━━━━━━━━━━━━━━╇━━━━━━━━━━━━━━━━━━━━━━━━╇━━━━━━━━━━━━━━━┩\n",
       "│ embedding (\u001b[38;5;33mEmbedding\u001b[0m)           │ ?                      │     \u001b[38;5;34m6,000,000\u001b[0m │\n",
       "├─────────────────────────────────┼────────────────────────┼───────────────┤\n",
       "│ simple_rnn (\u001b[38;5;33mSimpleRNN\u001b[0m)          │ ?                      │   \u001b[38;5;34m0\u001b[0m (unbuilt) │\n",
       "├─────────────────────────────────┼────────────────────────┼───────────────┤\n",
       "│ dense (\u001b[38;5;33mDense\u001b[0m)                   │ ?                      │   \u001b[38;5;34m0\u001b[0m (unbuilt) │\n",
       "├─────────────────────────────────┼────────────────────────┼───────────────┤\n",
       "│ dense_1 (\u001b[38;5;33mDense\u001b[0m)                 │ ?                      │   \u001b[38;5;34m0\u001b[0m (unbuilt) │\n",
       "└─────────────────────────────────┴────────────────────────┴───────────────┘\n"
      ]
     },
     "metadata": {},
     "output_type": "display_data"
    },
    {
     "data": {
      "text/html": [
       "<pre style=\"white-space:pre;overflow-x:auto;line-height:normal;font-family:Menlo,'DejaVu Sans Mono',consolas,'Courier New',monospace\"><span style=\"font-weight: bold\"> Total params: </span><span style=\"color: #00af00; text-decoration-color: #00af00\">6,000,000</span> (22.89 MB)\n",
       "</pre>\n"
      ],
      "text/plain": [
       "\u001b[1m Total params: \u001b[0m\u001b[38;5;34m6,000,000\u001b[0m (22.89 MB)\n"
      ]
     },
     "metadata": {},
     "output_type": "display_data"
    },
    {
     "data": {
      "text/html": [
       "<pre style=\"white-space:pre;overflow-x:auto;line-height:normal;font-family:Menlo,'DejaVu Sans Mono',consolas,'Courier New',monospace\"><span style=\"font-weight: bold\"> Trainable params: </span><span style=\"color: #00af00; text-decoration-color: #00af00\">0</span> (0.00 B)\n",
       "</pre>\n"
      ],
      "text/plain": [
       "\u001b[1m Trainable params: \u001b[0m\u001b[38;5;34m0\u001b[0m (0.00 B)\n"
      ]
     },
     "metadata": {},
     "output_type": "display_data"
    },
    {
     "data": {
      "text/html": [
       "<pre style=\"white-space:pre;overflow-x:auto;line-height:normal;font-family:Menlo,'DejaVu Sans Mono',consolas,'Courier New',monospace\"><span style=\"font-weight: bold\"> Non-trainable params: </span><span style=\"color: #00af00; text-decoration-color: #00af00\">6,000,000</span> (22.89 MB)\n",
       "</pre>\n"
      ],
      "text/plain": [
       "\u001b[1m Non-trainable params: \u001b[0m\u001b[38;5;34m6,000,000\u001b[0m (22.89 MB)\n"
      ]
     },
     "metadata": {},
     "output_type": "display_data"
    }
   ],
   "source": [
    "training_model = getModel()\n",
    "training_model.summary()"
   ]
  },
  {
   "cell_type": "code",
   "execution_count": 75,
   "id": "cec16eb9",
   "metadata": {
    "papermill": {
     "duration": 0.042322,
     "end_time": "2023-09-11T14:08:18.712889",
     "exception": false,
     "start_time": "2023-09-11T14:08:18.670567",
     "status": "completed"
    },
    "tags": []
   },
   "outputs": [],
   "source": [
    "training_model.compile(loss='binary_crossentropy', optimizer='adam', metrics=['accuracy'])"
   ]
  },
  {
   "cell_type": "code",
   "execution_count": 76,
   "id": "fec98ee3",
   "metadata": {
    "papermill": {
     "duration": 741.380932,
     "end_time": "2023-09-11T14:20:40.114582",
     "exception": false,
     "start_time": "2023-09-11T14:08:18.733650",
     "status": "completed"
    },
    "tags": []
   },
   "outputs": [
    {
     "name": "stdout",
     "output_type": "stream",
     "text": [
      "Epoch 1/12\n",
      "\u001b[1m1125/1125\u001b[0m \u001b[32m━━━━━━━━━━━━━━━━━━━━\u001b[0m\u001b[37m\u001b[0m \u001b[1m98s\u001b[0m 86ms/step - accuracy: 0.7246 - loss: 0.5436 - val_accuracy: 0.7871 - val_loss: 0.4610\n",
      "Epoch 2/12\n",
      "\u001b[1m1125/1125\u001b[0m \u001b[32m━━━━━━━━━━━━━━━━━━━━\u001b[0m\u001b[37m\u001b[0m \u001b[1m103s\u001b[0m 92ms/step - accuracy: 0.7857 - loss: 0.4618 - val_accuracy: 0.7675 - val_loss: 0.4844\n",
      "Epoch 3/12\n",
      "\u001b[1m1125/1125\u001b[0m \u001b[32m━━━━━━━━━━━━━━━━━━━━\u001b[0m\u001b[37m\u001b[0m \u001b[1m100s\u001b[0m 89ms/step - accuracy: 0.7782 - loss: 0.4685 - val_accuracy: 0.8001 - val_loss: 0.4369\n",
      "Epoch 4/12\n",
      "\u001b[1m1125/1125\u001b[0m \u001b[32m━━━━━━━━━━━━━━━━━━━━\u001b[0m\u001b[37m\u001b[0m \u001b[1m103s\u001b[0m 92ms/step - accuracy: 0.8002 - loss: 0.4326 - val_accuracy: 0.8020 - val_loss: 0.4280\n",
      "Epoch 5/12\n",
      "\u001b[1m1125/1125\u001b[0m \u001b[32m━━━━━━━━━━━━━━━━━━━━\u001b[0m\u001b[37m\u001b[0m \u001b[1m104s\u001b[0m 92ms/step - accuracy: 0.8045 - loss: 0.4238 - val_accuracy: 0.8074 - val_loss: 0.4209\n",
      "Epoch 6/12\n",
      "\u001b[1m1125/1125\u001b[0m \u001b[32m━━━━━━━━━━━━━━━━━━━━\u001b[0m\u001b[37m\u001b[0m \u001b[1m106s\u001b[0m 94ms/step - accuracy: 0.8084 - loss: 0.4205 - val_accuracy: 0.8111 - val_loss: 0.4125\n",
      "Epoch 7/12\n",
      "\u001b[1m1125/1125\u001b[0m \u001b[32m━━━━━━━━━━━━━━━━━━━━\u001b[0m\u001b[37m\u001b[0m \u001b[1m90s\u001b[0m 80ms/step - accuracy: 0.8130 - loss: 0.4086 - val_accuracy: 0.8147 - val_loss: 0.4071\n",
      "Epoch 8/12\n",
      "\u001b[1m1125/1125\u001b[0m \u001b[32m━━━━━━━━━━━━━━━━━━━━\u001b[0m\u001b[37m\u001b[0m \u001b[1m88s\u001b[0m 79ms/step - accuracy: 0.8133 - loss: 0.4106 - val_accuracy: 0.8130 - val_loss: 0.4095\n",
      "Epoch 9/12\n",
      "\u001b[1m1125/1125\u001b[0m \u001b[32m━━━━━━━━━━━━━━━━━━━━\u001b[0m\u001b[37m\u001b[0m \u001b[1m96s\u001b[0m 86ms/step - accuracy: 0.8162 - loss: 0.4048 - val_accuracy: 0.8158 - val_loss: 0.4031\n",
      "Epoch 10/12\n",
      "\u001b[1m1125/1125\u001b[0m \u001b[32m━━━━━━━━━━━━━━━━━━━━\u001b[0m\u001b[37m\u001b[0m \u001b[1m96s\u001b[0m 86ms/step - accuracy: 0.8184 - loss: 0.3994 - val_accuracy: 0.8145 - val_loss: 0.4042\n",
      "Epoch 11/12\n",
      "\u001b[1m1125/1125\u001b[0m \u001b[32m━━━━━━━━━━━━━━━━━━━━\u001b[0m\u001b[37m\u001b[0m \u001b[1m104s\u001b[0m 93ms/step - accuracy: 0.8197 - loss: 0.3963 - val_accuracy: 0.8179 - val_loss: 0.3991\n",
      "Epoch 12/12\n",
      "\u001b[1m1125/1125\u001b[0m \u001b[32m━━━━━━━━━━━━━━━━━━━━\u001b[0m\u001b[37m\u001b[0m \u001b[1m107s\u001b[0m 95ms/step - accuracy: 0.8220 - loss: 0.3924 - val_accuracy: 0.8182 - val_loss: 0.3997\n"
     ]
    }
   ],
   "source": [
    "history = training_model.fit(\n",
    "    X_train, y_train,\n",
    "    batch_size=1024,\n",
    "    epochs=12,\n",
    "    validation_split=0.1,\n",
    "    verbose=1,\n",
    ")"
   ]
  },
  {
   "cell_type": "markdown",
   "id": "0a6dd0af",
   "metadata": {
    "papermill": {
     "duration": 0.99633,
     "end_time": "2023-09-11T14:20:42.047618",
     "exception": false,
     "start_time": "2023-09-11T14:20:41.051288",
     "status": "completed"
    },
    "tags": []
   },
   "source": [
    "**Evaluating the Model**"
   ]
  },
  {
   "cell_type": "code",
   "execution_count": 78,
   "id": "c31145d8",
   "metadata": {
    "papermill": {
     "duration": 1.54362,
     "end_time": "2023-09-11T14:20:44.525419",
     "exception": false,
     "start_time": "2023-09-11T14:20:42.981799",
     "status": "completed"
    },
    "tags": []
   },
   "outputs": [],
   "source": [
    "from sklearn.metrics import confusion_matrix\n",
    "import seaborn as sns\n",
    "import matplotlib.pyplot as plt\n",
    "\n",
    "def ConfusionMatrix(y_pred, y_test):\n",
    "    # Compute and plot the Confusion matrix\n",
    "    cf_matrix = confusion_matrix(y_test, y_pred)\n",
    "\n",
    "    categories  = ['Negative','Positive']\n",
    "    group_names = ['True Neg','False Pos', 'False Neg','True Pos']\n",
    "    group_percentages = ['{0:.2%}'.format(value) for value in cf_matrix.flatten() / np.sum(cf_matrix)]\n",
    "\n",
    "    labels = [f'{v1}\\n{v2}' for v1, v2 in zip(group_names,group_percentages)]\n",
    "    labels = np.asarray(labels).reshape(2,2)\n",
    "\n",
    "    sns.heatmap(cf_matrix, annot = labels, cmap = 'Blues',fmt = '',\n",
    "                xticklabels = categories, yticklabels = categories)\n",
    "\n",
    "    plt.xlabel(\"Predicted values\", fontdict = {'size':14}, labelpad = 10)\n",
    "    plt.ylabel(\"Actual values\"   , fontdict = {'size':14}, labelpad = 10)\n",
    "    plt.title (\"Confusion Matrix\", fontdict = {'size':18}, pad = 20)"
   ]
  },
  {
   "cell_type": "code",
   "execution_count": 79,
   "id": "dafe3e9f",
   "metadata": {
    "papermill": {
     "duration": 129.856976,
     "end_time": "2023-09-11T14:22:55.329546",
     "exception": false,
     "start_time": "2023-09-11T14:20:45.472570",
     "status": "completed"
    },
    "tags": []
   },
   "outputs": [
    {
     "name": "stdout",
     "output_type": "stream",
     "text": [
      "\u001b[1m10000/10000\u001b[0m \u001b[32m━━━━━━━━━━━━━━━━━━━━\u001b[0m\u001b[37m\u001b[0m \u001b[1m19s\u001b[0m 2ms/step\n",
      "Test accuracy_SimpleRNN: 0.817709375\n",
      "Confusion Matrix: Simple RNN\n"
     ]
    },
    {
     "data": {
      "image/png": "[encoded data removed]",
      "text/plain": [
       "<Figure size 640x480 with 2 Axes>"
      ]
     },
     "metadata": {},
     "output_type": "display_data"
    }
   ],
   "source": [
    "# Predicting on the Test dataset.\n",
    "y_pred = training_model.predict(X_test)\n",
    "\n",
    "# Converting prediction to reflect the sentiment predicted.\n",
    "y_pred = np.where(y_pred>=0.5, 1, 0)\n",
    "\n",
    "# Evaluate accuracy\n",
    "accuracy = accuracy_score(y_test, y_pred)\n",
    "print(f\"Test accuracy_SimpleRNN: {accuracy}\")\n",
    "\n",
    "# Printing out the Evaluation metrics. \n",
    "print (\"Confusion Matrix: Simple RNN\")\n",
    "ConfusionMatrix(y_pred, y_test)"
   ]
  },
  {
   "cell_type": "markdown",
   "id": "c7fa9901",
   "metadata": {
    "papermill": {
     "duration": 1.175981,
     "end_time": "2023-09-11T14:23:04.644141",
     "exception": false,
     "start_time": "2023-09-11T14:23:03.468160",
     "status": "completed"
    },
    "tags": []
   },
   "source": [
    "**SAVING THE MODEL**"
   ]
  },
  {
   "cell_type": "code",
   "execution_count": 81,
   "id": "38d9152b",
   "metadata": {
    "papermill": {
     "duration": 7.013683,
     "end_time": "2023-09-11T14:23:12.777498",
     "exception": false,
     "start_time": "2023-09-11T14:23:05.763815",
     "status": "completed"
    },
    "tags": []
   },
   "outputs": [],
   "source": [
    " # Saving Word2Vec-Model\n",
    "word2vec_model.wv.save('Word2Vec-twitter-100')\n",
    "word2vec_model.wv.save_word2vec_format('Word2Vec-twitter-100-trainable')\n",
    "\n",
    "# Saving the tokenizer\n",
    "with open('Tokenizer.pickle', 'wb') as file:\n",
    "    pickle.dump(tokenizer, file)\n",
    "\n",
    "# Saving the TF-Model.\n",
    "training_model.save('/Users/roshankhatri/Downloads/AI/MLP/SENTIMENT/saved models/Sentiment-SimpleRNN.keras')\n",
    "training_model.save_weights(\"/Users/roshankhatri/Downloads/AI/MLP/SENTIMENT/saved models/weights_SimpleRNN.weights.h5\")"
   ]
  },
  {
   "cell_type": "markdown",
   "id": "90018247",
   "metadata": {
    "papermill": {
     "duration": 1.635991,
     "end_time": "2023-09-11T14:23:15.640380",
     "exception": false,
     "start_time": "2023-09-11T14:23:14.004389",
     "status": "completed"
    },
    "tags": []
   },
   "source": [
    "**Prediction on new data**"
   ]
  },
  {
   "cell_type": "code",
   "execution_count": 83,
   "id": "a921b6ab",
   "metadata": {
    "papermill": {
     "duration": 2.408914,
     "end_time": "2023-09-11T14:23:19.229154",
     "exception": false,
     "start_time": "2023-09-11T14:23:16.820240",
     "status": "completed"
    },
    "tags": []
   },
   "outputs": [],
   "source": [
    "# Load the Word2Vec model as a KeyedVectors object\n",
    "word2vec_model1 = KeyedVectors.load('Word2Vec-twitter-100')\n",
    "\n",
    "\n",
    "# Load the tokenizer\n",
    "with open('Tokenizer.pickle', 'rb') as file:\n",
    "    tokenizer = pickle.load(file)\n",
    "\n",
    "# Load the TF-Model\n",
    "training_model = load_model('/Users/roshankhatri/Downloads/AI/MLP/SENTIMENT/saved models/Sentiment-SimpleRNN.keras')"
   ]
  },
  {
   "cell_type": "code",
   "execution_count": 84,
   "id": "513e0557",
   "metadata": {
    "papermill": {
     "duration": 1.126274,
     "end_time": "2023-09-11T14:23:21.486850",
     "exception": false,
     "start_time": "2023-09-11T14:23:20.360576",
     "status": "completed"
    },
    "tags": []
   },
   "outputs": [],
   "source": [
    "new_tweet = \"Today has been a terrible day. Nothing is going my way, and it feels like everything is falling apart. #badluck #feelingdown 😞\"\n",
    "\n",
    "# Tokenize and pad the new tweet\n",
    "input_length = 60  # Adjust this to match the input length used during training\n",
    "new_tweet_tokens = tokenizer.texts_to_sequences([new_tweet])\n",
    "new_tweet_tokens_padded = pad_sequences(new_tweet_tokens, maxlen=input_length)"
   ]
  },
  {
   "cell_type": "code",
   "execution_count": 85,
   "id": "a02e0bea",
   "metadata": {
    "papermill": {
     "duration": 1.407883,
     "end_time": "2023-09-11T14:23:24.065420",
     "exception": false,
     "start_time": "2023-09-11T14:23:22.657537",
     "status": "completed"
    },
    "tags": []
   },
   "outputs": [
    {
     "name": "stdout",
     "output_type": "stream",
     "text": [
      "\u001b[1m1/1\u001b[0m \u001b[32m━━━━━━━━━━━━━━━━━━━━\u001b[0m\u001b[37m\u001b[0m \u001b[1m0s\u001b[0m 55ms/step\n",
      "Predicted Sentiment: Negative\n"
     ]
    }
   ],
   "source": [
    "# Predict sentiment for the new tweet\n",
    "sentiment_probabilities = training_model.predict(new_tweet_tokens_padded)\n",
    "\n",
    "# If it's binary sentiment classification (positive/negative), you can use argmax to get the predicted sentiment\n",
    "predicted_sentiment = \"Positive\" if sentiment_probabilities[0][0] > 0.5 else \"Negative\"\n",
    "\n",
    "print(f\"Predicted Sentiment: {predicted_sentiment}\")"
   ]
  },
  {
   "cell_type": "markdown",
   "id": "37b9469d",
   "metadata": {},
   "source": [
    "# LSTM"
   ]
  },
  {
   "cell_type": "code",
   "execution_count": 87,
   "id": "55e9f17f",
   "metadata": {
    "papermill": {
     "duration": 1.175866,
     "end_time": "2023-09-11T14:23:31.126708",
     "exception": false,
     "start_time": "2023-09-11T14:23:29.950842",
     "status": "completed"
    },
    "tags": []
   },
   "outputs": [
    {
     "name": "stderr",
     "output_type": "stream",
     "text": [
      "/opt/anaconda3/lib/python3.12/site-packages/keras/src/layers/core/embedding.py:90: UserWarning: Argument `input_length` is deprecated. Just remove it.\n",
      "  warnings.warn(\n"
     ]
    },
    {
     "data": {
      "text/html": [
       "<pre style=\"white-space:pre;overflow-x:auto;line-height:normal;font-family:Menlo,'DejaVu Sans Mono',consolas,'Courier New',monospace\"><span style=\"font-weight: bold\">Model: \"Sentiment_Model_LSTM\"</span>\n",
       "</pre>\n"
      ],
      "text/plain": [
       "\u001b[1mModel: \"Sentiment_Model_LSTM\"\u001b[0m\n"
      ]
     },
     "metadata": {},
     "output_type": "display_data"
    },
    {
     "data": {
      "text/html": [
       "<pre style=\"white-space:pre;overflow-x:auto;line-height:normal;font-family:Menlo,'DejaVu Sans Mono',consolas,'Courier New',monospace\">┏━━━━━━━━━━━━━━━━━━━━━━━━━━━━━━━━━┳━━━━━━━━━━━━━━━━━━━━━━━━┳━━━━━━━━━━━━━━━┓\n",
       "┃<span style=\"font-weight: bold\"> Layer (type)                    </span>┃<span style=\"font-weight: bold\"> Output Shape           </span>┃<span style=\"font-weight: bold\">       Param # </span>┃\n",
       "┡━━━━━━━━━━━━━━━━━━━━━━━━━━━━━━━━━╇━━━━━━━━━━━━━━━━━━━━━━━━╇━━━━━━━━━━━━━━━┩\n",
       "│ embedding_1 (<span style=\"color: #0087ff; text-decoration-color: #0087ff\">Embedding</span>)         │ ?                      │     <span style=\"color: #00af00; text-decoration-color: #00af00\">6,000,000</span> │\n",
       "├─────────────────────────────────┼────────────────────────┼───────────────┤\n",
       "│ lstm (<span style=\"color: #0087ff; text-decoration-color: #0087ff\">LSTM</span>)                     │ ?                      │   <span style=\"color: #00af00; text-decoration-color: #00af00\">0</span> (unbuilt) │\n",
       "├─────────────────────────────────┼────────────────────────┼───────────────┤\n",
       "│ dropout (<span style=\"color: #0087ff; text-decoration-color: #0087ff\">Dropout</span>)               │ ?                      │             <span style=\"color: #00af00; text-decoration-color: #00af00\">0</span> │\n",
       "├─────────────────────────────────┼────────────────────────┼───────────────┤\n",
       "│ lstm_1 (<span style=\"color: #0087ff; text-decoration-color: #0087ff\">LSTM</span>)                   │ ?                      │   <span style=\"color: #00af00; text-decoration-color: #00af00\">0</span> (unbuilt) │\n",
       "├─────────────────────────────────┼────────────────────────┼───────────────┤\n",
       "│ dropout_1 (<span style=\"color: #0087ff; text-decoration-color: #0087ff\">Dropout</span>)             │ ?                      │             <span style=\"color: #00af00; text-decoration-color: #00af00\">0</span> │\n",
       "├─────────────────────────────────┼────────────────────────┼───────────────┤\n",
       "│ dense_2 (<span style=\"color: #0087ff; text-decoration-color: #0087ff\">Dense</span>)                 │ ?                      │   <span style=\"color: #00af00; text-decoration-color: #00af00\">0</span> (unbuilt) │\n",
       "├─────────────────────────────────┼────────────────────────┼───────────────┤\n",
       "│ dropout_2 (<span style=\"color: #0087ff; text-decoration-color: #0087ff\">Dropout</span>)             │ ?                      │             <span style=\"color: #00af00; text-decoration-color: #00af00\">0</span> │\n",
       "├─────────────────────────────────┼────────────────────────┼───────────────┤\n",
       "│ dense_3 (<span style=\"color: #0087ff; text-decoration-color: #0087ff\">Dense</span>)                 │ ?                      │   <span style=\"color: #00af00; text-decoration-color: #00af00\">0</span> (unbuilt) │\n",
       "├─────────────────────────────────┼────────────────────────┼───────────────┤\n",
       "│ dropout_3 (<span style=\"color: #0087ff; text-decoration-color: #0087ff\">Dropout</span>)             │ ?                      │             <span style=\"color: #00af00; text-decoration-color: #00af00\">0</span> │\n",
       "├─────────────────────────────────┼────────────────────────┼───────────────┤\n",
       "│ dense_4 (<span style=\"color: #0087ff; text-decoration-color: #0087ff\">Dense</span>)                 │ ?                      │   <span style=\"color: #00af00; text-decoration-color: #00af00\">0</span> (unbuilt) │\n",
       "└─────────────────────────────────┴────────────────────────┴───────────────┘\n",
       "</pre>\n"
      ],
      "text/plain": [
       "┏━━━━━━━━━━━━━━━━━━━━━━━━━━━━━━━━━┳━━━━━━━━━━━━━━━━━━━━━━━━┳━━━━━━━━━━━━━━━┓\n",
       "┃\u001b[1m \u001b[0m\u001b[1mLayer (type)                   \u001b[0m\u001b[1m \u001b[0m┃\u001b[1m \u001b[0m\u001b[1mOutput Shape          \u001b[0m\u001b[1m \u001b[0m┃\u001b[1m \u001b[0m\u001b[1m      Param #\u001b[0m\u001b[1m \u001b[0m┃\n",
       "┡━━━━━━━━━━━━━━━━━━━━━━━━━━━━━━━━━╇━━━━━━━━━━━━━━━━━━━━━━━━╇━━━━━━━━━━━━━━━┩\n",
       "│ embedding_1 (\u001b[38;5;33mEmbedding\u001b[0m)         │ ?                      │     \u001b[38;5;34m6,000,000\u001b[0m │\n",
       "├─────────────────────────────────┼────────────────────────┼───────────────┤\n",
       "│ lstm (\u001b[38;5;33mLSTM\u001b[0m)                     │ ?                      │   \u001b[38;5;34m0\u001b[0m (unbuilt) │\n",
       "├─────────────────────────────────┼────────────────────────┼───────────────┤\n",
       "│ dropout (\u001b[38;5;33mDropout\u001b[0m)               │ ?                      │             \u001b[38;5;34m0\u001b[0m │\n",
       "├─────────────────────────────────┼────────────────────────┼───────────────┤\n",
       "│ lstm_1 (\u001b[38;5;33mLSTM\u001b[0m)                   │ ?                      │   \u001b[38;5;34m0\u001b[0m (unbuilt) │\n",
       "├─────────────────────────────────┼────────────────────────┼───────────────┤\n",
       "│ dropout_1 (\u001b[38;5;33mDropout\u001b[0m)             │ ?                      │             \u001b[38;5;34m0\u001b[0m │\n",
       "├─────────────────────────────────┼────────────────────────┼───────────────┤\n",
       "│ dense_2 (\u001b[38;5;33mDense\u001b[0m)                 │ ?                      │   \u001b[38;5;34m0\u001b[0m (unbuilt) │\n",
       "├─────────────────────────────────┼────────────────────────┼───────────────┤\n",
       "│ dropout_2 (\u001b[38;5;33mDropout\u001b[0m)             │ ?                      │             \u001b[38;5;34m0\u001b[0m │\n",
       "├─────────────────────────────────┼────────────────────────┼───────────────┤\n",
       "│ dense_3 (\u001b[38;5;33mDense\u001b[0m)                 │ ?                      │   \u001b[38;5;34m0\u001b[0m (unbuilt) │\n",
       "├─────────────────────────────────┼────────────────────────┼───────────────┤\n",
       "│ dropout_3 (\u001b[38;5;33mDropout\u001b[0m)             │ ?                      │             \u001b[38;5;34m0\u001b[0m │\n",
       "├─────────────────────────────────┼────────────────────────┼───────────────┤\n",
       "│ dense_4 (\u001b[38;5;33mDense\u001b[0m)                 │ ?                      │   \u001b[38;5;34m0\u001b[0m (unbuilt) │\n",
       "└─────────────────────────────────┴────────────────────────┴───────────────┘\n"
      ]
     },
     "metadata": {},
     "output_type": "display_data"
    },
    {
     "data": {
      "text/html": [
       "<pre style=\"white-space:pre;overflow-x:auto;line-height:normal;font-family:Menlo,'DejaVu Sans Mono',consolas,'Courier New',monospace\"><span style=\"font-weight: bold\"> Total params: </span><span style=\"color: #00af00; text-decoration-color: #00af00\">6,000,000</span> (22.89 MB)\n",
       "</pre>\n"
      ],
      "text/plain": [
       "\u001b[1m Total params: \u001b[0m\u001b[38;5;34m6,000,000\u001b[0m (22.89 MB)\n"
      ]
     },
     "metadata": {},
     "output_type": "display_data"
    },
    {
     "data": {
      "text/html": [
       "<pre style=\"white-space:pre;overflow-x:auto;line-height:normal;font-family:Menlo,'DejaVu Sans Mono',consolas,'Courier New',monospace\"><span style=\"font-weight: bold\"> Trainable params: </span><span style=\"color: #00af00; text-decoration-color: #00af00\">0</span> (0.00 B)\n",
       "</pre>\n"
      ],
      "text/plain": [
       "\u001b[1m Trainable params: \u001b[0m\u001b[38;5;34m0\u001b[0m (0.00 B)\n"
      ]
     },
     "metadata": {},
     "output_type": "display_data"
    },
    {
     "data": {
      "text/html": [
       "<pre style=\"white-space:pre;overflow-x:auto;line-height:normal;font-family:Menlo,'DejaVu Sans Mono',consolas,'Courier New',monospace\"><span style=\"font-weight: bold\"> Non-trainable params: </span><span style=\"color: #00af00; text-decoration-color: #00af00\">6,000,000</span> (22.89 MB)\n",
       "</pre>\n"
      ],
      "text/plain": [
       "\u001b[1m Non-trainable params: \u001b[0m\u001b[38;5;34m6,000,000\u001b[0m (22.89 MB)\n"
      ]
     },
     "metadata": {},
     "output_type": "display_data"
    },
    {
     "name": "stdout",
     "output_type": "stream",
     "text": [
      "Epoch 1/5\n",
      "\u001b[1m1125/1125\u001b[0m \u001b[32m━━━━━━━━━━━━━━━━━━━━\u001b[0m\u001b[37m\u001b[0m \u001b[1m436s\u001b[0m 387ms/step - accuracy: 0.7566 - loss: 0.5118 - val_accuracy: 0.8160 - val_loss: 0.4030\n",
      "Epoch 2/5\n",
      "\u001b[1m1125/1125\u001b[0m \u001b[32m━━━━━━━━━━━━━━━━━━━━\u001b[0m\u001b[37m\u001b[0m \u001b[1m451s\u001b[0m 401ms/step - accuracy: 0.8111 - loss: 0.4311 - val_accuracy: 0.8236 - val_loss: 0.3892\n",
      "Epoch 3/5\n",
      "\u001b[1m1125/1125\u001b[0m \u001b[32m━━━━━━━━━━━━━━━━━━━━\u001b[0m\u001b[37m\u001b[0m \u001b[1m454s\u001b[0m 404ms/step - accuracy: 0.8179 - loss: 0.4158 - val_accuracy: 0.8261 - val_loss: 0.3862\n",
      "Epoch 4/5\n",
      "\u001b[1m1125/1125\u001b[0m \u001b[32m━━━━━━━━━━━━━━━━━━━━\u001b[0m\u001b[37m\u001b[0m \u001b[1m450s\u001b[0m 400ms/step - accuracy: 0.8217 - loss: 0.4073 - val_accuracy: 0.8295 - val_loss: 0.3778\n",
      "Epoch 5/5\n",
      "\u001b[1m1125/1125\u001b[0m \u001b[32m━━━━━━━━━━━━━━━━━━━━\u001b[0m\u001b[37m\u001b[0m \u001b[1m448s\u001b[0m 398ms/step - accuracy: 0.8254 - loss: 0.4007 - val_accuracy: 0.8315 - val_loss: 0.3744\n",
      "\u001b[1m10000/10000\u001b[0m \u001b[32m━━━━━━━━━━━━━━━━━━━━\u001b[0m\u001b[37m\u001b[0m \u001b[1m130s\u001b[0m 13ms/step\n",
      "Test accuracy_LSTM: 0.831684375\n",
      "Confusion Matrix: LSTM\n"
     ]
    },
    {
     "data": {
      "image/png": "[encoded data removed]",
      "text/plain": [
       "<Figure size 640x480 with 2 Axes>"
      ]
     },
     "metadata": {},
     "output_type": "display_data"
    }
   ],
   "source": [
    "def getModel_lstm():\n",
    "    embedding_layer = Embedding(input_dim = vocab_length,\n",
    "                                output_dim = Embedding_dimensions,\n",
    "                                weights=[embedding_matrix],\n",
    "                                input_length=input_length,\n",
    "                                trainable=False)\n",
    "\n",
    "    model = Sequential([\n",
    "        embedding_layer,\n",
    "        LSTM(100, return_sequences=True),\n",
    "        Dropout(0.5),\n",
    "        LSTM(100),\n",
    "        Dropout(0.5),\n",
    "        Dense(64, activation='relu'),\n",
    "        Dropout(0.5),\n",
    "        Dense(16, activation='relu'),\n",
    "        Dropout(0.5),\n",
    "        Dense(1, activation='sigmoid'),\n",
    "    ],\n",
    "    name=\"Sentiment_Model_LSTM\")\n",
    "    return model\n",
    "\n",
    "training_model = getModel_lstm()\n",
    "training_model.summary()\n",
    "\n",
    "training_model.compile(loss='binary_crossentropy', optimizer='adam', metrics=['accuracy'])\n",
    "history = training_model.fit(\n",
    "    X_train, y_train,\n",
    "    batch_size=1024,\n",
    "    epochs=5,\n",
    "    validation_split=0.1,\n",
    "    verbose=1,\n",
    ")\n",
    "\n",
    "## Evaluating the model\n",
    "# Predicting on the Test dataset.\n",
    "y_pred = training_model.predict(X_test)\n",
    "\n",
    "# Converting prediction to reflect the sentiment predicted.\n",
    "y_pred = np.where(y_pred>=0.5, 1, 0)\n",
    "\n",
    "# Evaluate accuracy\n",
    "accuracy = accuracy_score(y_test, y_pred)\n",
    "print(f\"Test accuracy_LSTM: {accuracy}\")\n",
    "\n",
    "# Printing out the Evaluation metrics. \n",
    "print (\"Confusion Matrix: LSTM\")\n",
    "ConfusionMatrix(y_pred, y_test)"
   ]
  },
  {
   "cell_type": "code",
   "execution_count": 88,
   "id": "3066ba61",
   "metadata": {},
   "outputs": [],
   "source": [
    "## Save model\n",
    "# Saving the TF-Model.\n",
    "training_model.save('/Users/roshankhatri/Downloads/AI/MLP/SENTIMENT/saved models/Sentiment-LSTM.keras')\n",
    "training_model.save_weights(\"/Users/roshankhatri/Downloads/AI/MLP/SENTIMENT/saved models/Sentimentweights_LSTM.weights.h5\")\n",
    "\n",
    "# Load the Word2Vec model as a KeyedVectors object\n",
    "word2vec_model1 = KeyedVectors.load('Word2Vec-twitter-100')\n",
    "\n",
    "\n",
    "# Load the tokenizer\n",
    "with open('Tokenizer.pickle', 'rb') as file:\n",
    "    tokenizer = pickle.load(file)\n",
    "\n",
    "# Load the TF-Model\n",
    "training_model = load_model('/Users/yogeshneupane/Downloads/mlpfinal/saved models/Sentiment-LSTM.keras')"
   ]
  },
  {
   "cell_type": "code",
   "execution_count": 89,
   "id": "a87bf10f",
   "metadata": {},
   "outputs": [
    {
     "name": "stdout",
     "output_type": "stream",
     "text": [
      "\u001b[1m1/1\u001b[0m \u001b[32m━━━━━━━━━━━━━━━━━━━━\u001b[0m\u001b[37m\u001b[0m \u001b[1m0s\u001b[0m 103ms/step\n",
      "Predicted Sentiment: Negative\n"
     ]
    }
   ],
   "source": [
    "## Predictions on new data\n",
    "new_tweet = \"Today has been a terrible day. Nothing is going my way, and it feels like everything is falling apart. #badluck #feelingdown 😞\"\n",
    "\n",
    "# Tokenize and pad the new tweet\n",
    "input_length = 60  # Adjust this to match the input length used during training\n",
    "new_tweet_tokens = tokenizer.texts_to_sequences([new_tweet])\n",
    "new_tweet_tokens_padded = pad_sequences(new_tweet_tokens, maxlen=input_length)\n",
    "\n",
    "# Predict sentiment for the new tweet\n",
    "sentiment_probabilities = training_model.predict(new_tweet_tokens_padded)\n",
    "\n",
    "# If it's binary sentiment classification (positive/negative), you can use argmax to get the predicted sentiment\n",
    "predicted_sentiment = \"Positive\" if sentiment_probabilities[0][0] > 0.5 else \"Negative\"\n",
    "\n",
    "print(f\"Predicted Sentiment: {predicted_sentiment}\")"
   ]
  },
  {
   "cell_type": "markdown",
   "id": "5f90dd65",
   "metadata": {},
   "source": [
    "# Bidirectional LSTM"
   ]
  },
  {
   "cell_type": "code",
   "execution_count": 91,
   "id": "2b96c22c",
   "metadata": {},
   "outputs": [
    {
     "name": "stderr",
     "output_type": "stream",
     "text": [
      "/opt/anaconda3/lib/python3.12/site-packages/keras/src/layers/core/embedding.py:90: UserWarning: Argument `input_length` is deprecated. Just remove it.\n",
      "  warnings.warn(\n"
     ]
    },
    {
     "data": {
      "text/html": [
       "<pre style=\"white-space:pre;overflow-x:auto;line-height:normal;font-family:Menlo,'DejaVu Sans Mono',consolas,'Courier New',monospace\"><span style=\"font-weight: bold\">Model: \"Sentiment_Model_BiLSTM\"</span>\n",
       "</pre>\n"
      ],
      "text/plain": [
       "\u001b[1mModel: \"Sentiment_Model_BiLSTM\"\u001b[0m\n"
      ]
     },
     "metadata": {},
     "output_type": "display_data"
    },
    {
     "data": {
      "text/html": [
       "<pre style=\"white-space:pre;overflow-x:auto;line-height:normal;font-family:Menlo,'DejaVu Sans Mono',consolas,'Courier New',monospace\">┏━━━━━━━━━━━━━━━━━━━━━━━━━━━━━━━━━┳━━━━━━━━━━━━━━━━━━━━━━━━┳━━━━━━━━━━━━━━━┓\n",
       "┃<span style=\"font-weight: bold\"> Layer (type)                    </span>┃<span style=\"font-weight: bold\"> Output Shape           </span>┃<span style=\"font-weight: bold\">       Param # </span>┃\n",
       "┡━━━━━━━━━━━━━━━━━━━━━━━━━━━━━━━━━╇━━━━━━━━━━━━━━━━━━━━━━━━╇━━━━━━━━━━━━━━━┩\n",
       "│ embedding_2 (<span style=\"color: #0087ff; text-decoration-color: #0087ff\">Embedding</span>)         │ ?                      │     <span style=\"color: #00af00; text-decoration-color: #00af00\">6,000,000</span> │\n",
       "├─────────────────────────────────┼────────────────────────┼───────────────┤\n",
       "│ bidirectional (<span style=\"color: #0087ff; text-decoration-color: #0087ff\">Bidirectional</span>)   │ ?                      │   <span style=\"color: #00af00; text-decoration-color: #00af00\">0</span> (unbuilt) │\n",
       "├─────────────────────────────────┼────────────────────────┼───────────────┤\n",
       "│ dropout_4 (<span style=\"color: #0087ff; text-decoration-color: #0087ff\">Dropout</span>)             │ ?                      │             <span style=\"color: #00af00; text-decoration-color: #00af00\">0</span> │\n",
       "├─────────────────────────────────┼────────────────────────┼───────────────┤\n",
       "│ bidirectional_1 (<span style=\"color: #0087ff; text-decoration-color: #0087ff\">Bidirectional</span>) │ ?                      │   <span style=\"color: #00af00; text-decoration-color: #00af00\">0</span> (unbuilt) │\n",
       "├─────────────────────────────────┼────────────────────────┼───────────────┤\n",
       "│ dropout_5 (<span style=\"color: #0087ff; text-decoration-color: #0087ff\">Dropout</span>)             │ ?                      │             <span style=\"color: #00af00; text-decoration-color: #00af00\">0</span> │\n",
       "├─────────────────────────────────┼────────────────────────┼───────────────┤\n",
       "│ dense_5 (<span style=\"color: #0087ff; text-decoration-color: #0087ff\">Dense</span>)                 │ ?                      │   <span style=\"color: #00af00; text-decoration-color: #00af00\">0</span> (unbuilt) │\n",
       "├─────────────────────────────────┼────────────────────────┼───────────────┤\n",
       "│ dropout_6 (<span style=\"color: #0087ff; text-decoration-color: #0087ff\">Dropout</span>)             │ ?                      │             <span style=\"color: #00af00; text-decoration-color: #00af00\">0</span> │\n",
       "├─────────────────────────────────┼────────────────────────┼───────────────┤\n",
       "│ dense_6 (<span style=\"color: #0087ff; text-decoration-color: #0087ff\">Dense</span>)                 │ ?                      │   <span style=\"color: #00af00; text-decoration-color: #00af00\">0</span> (unbuilt) │\n",
       "├─────────────────────────────────┼────────────────────────┼───────────────┤\n",
       "│ dropout_7 (<span style=\"color: #0087ff; text-decoration-color: #0087ff\">Dropout</span>)             │ ?                      │             <span style=\"color: #00af00; text-decoration-color: #00af00\">0</span> │\n",
       "├─────────────────────────────────┼────────────────────────┼───────────────┤\n",
       "│ dense_7 (<span style=\"color: #0087ff; text-decoration-color: #0087ff\">Dense</span>)                 │ ?                      │   <span style=\"color: #00af00; text-decoration-color: #00af00\">0</span> (unbuilt) │\n",
       "└─────────────────────────────────┴────────────────────────┴───────────────┘\n",
       "</pre>\n"
      ],
      "text/plain": [
       "┏━━━━━━━━━━━━━━━━━━━━━━━━━━━━━━━━━┳━━━━━━━━━━━━━━━━━━━━━━━━┳━━━━━━━━━━━━━━━┓\n",
       "┃\u001b[1m \u001b[0m\u001b[1mLayer (type)                   \u001b[0m\u001b[1m \u001b[0m┃\u001b[1m \u001b[0m\u001b[1mOutput Shape          \u001b[0m\u001b[1m \u001b[0m┃\u001b[1m \u001b[0m\u001b[1m      Param #\u001b[0m\u001b[1m \u001b[0m┃\n",
       "┡━━━━━━━━━━━━━━━━━━━━━━━━━━━━━━━━━╇━━━━━━━━━━━━━━━━━━━━━━━━╇━━━━━━━━━━━━━━━┩\n",
       "│ embedding_2 (\u001b[38;5;33mEmbedding\u001b[0m)         │ ?                      │     \u001b[38;5;34m6,000,000\u001b[0m │\n",
       "├─────────────────────────────────┼────────────────────────┼───────────────┤\n",
       "│ bidirectional (\u001b[38;5;33mBidirectional\u001b[0m)   │ ?                      │   \u001b[38;5;34m0\u001b[0m (unbuilt) │\n",
       "├─────────────────────────────────┼────────────────────────┼───────────────┤\n",
       "│ dropout_4 (\u001b[38;5;33mDropout\u001b[0m)             │ ?                      │             \u001b[38;5;34m0\u001b[0m │\n",
       "├─────────────────────────────────┼────────────────────────┼───────────────┤\n",
       "│ bidirectional_1 (\u001b[38;5;33mBidirectional\u001b[0m) │ ?                      │   \u001b[38;5;34m0\u001b[0m (unbuilt) │\n",
       "├─────────────────────────────────┼────────────────────────┼───────────────┤\n",
       "│ dropout_5 (\u001b[38;5;33mDropout\u001b[0m)             │ ?                      │             \u001b[38;5;34m0\u001b[0m │\n",
       "├─────────────────────────────────┼────────────────────────┼───────────────┤\n",
       "│ dense_5 (\u001b[38;5;33mDense\u001b[0m)                 │ ?                      │   \u001b[38;5;34m0\u001b[0m (unbuilt) │\n",
       "├─────────────────────────────────┼────────────────────────┼───────────────┤\n",
       "│ dropout_6 (\u001b[38;5;33mDropout\u001b[0m)             │ ?                      │             \u001b[38;5;34m0\u001b[0m │\n",
       "├─────────────────────────────────┼────────────────────────┼───────────────┤\n",
       "│ dense_6 (\u001b[38;5;33mDense\u001b[0m)                 │ ?                      │   \u001b[38;5;34m0\u001b[0m (unbuilt) │\n",
       "├─────────────────────────────────┼────────────────────────┼───────────────┤\n",
       "│ dropout_7 (\u001b[38;5;33mDropout\u001b[0m)             │ ?                      │             \u001b[38;5;34m0\u001b[0m │\n",
       "├─────────────────────────────────┼────────────────────────┼───────────────┤\n",
       "│ dense_7 (\u001b[38;5;33mDense\u001b[0m)                 │ ?                      │   \u001b[38;5;34m0\u001b[0m (unbuilt) │\n",
       "└─────────────────────────────────┴────────────────────────┴───────────────┘\n"
      ]
     },
     "metadata": {},
     "output_type": "display_data"
    },
    {
     "data": {
      "text/html": [
       "<pre style=\"white-space:pre;overflow-x:auto;line-height:normal;font-family:Menlo,'DejaVu Sans Mono',consolas,'Courier New',monospace\"><span style=\"font-weight: bold\"> Total params: </span><span style=\"color: #00af00; text-decoration-color: #00af00\">6,000,000</span> (22.89 MB)\n",
       "</pre>\n"
      ],
      "text/plain": [
       "\u001b[1m Total params: \u001b[0m\u001b[38;5;34m6,000,000\u001b[0m (22.89 MB)\n"
      ]
     },
     "metadata": {},
     "output_type": "display_data"
    },
    {
     "data": {
      "text/html": [
       "<pre style=\"white-space:pre;overflow-x:auto;line-height:normal;font-family:Menlo,'DejaVu Sans Mono',consolas,'Courier New',monospace\"><span style=\"font-weight: bold\"> Trainable params: </span><span style=\"color: #00af00; text-decoration-color: #00af00\">0</span> (0.00 B)\n",
       "</pre>\n"
      ],
      "text/plain": [
       "\u001b[1m Trainable params: \u001b[0m\u001b[38;5;34m0\u001b[0m (0.00 B)\n"
      ]
     },
     "metadata": {},
     "output_type": "display_data"
    },
    {
     "data": {
      "text/html": [
       "<pre style=\"white-space:pre;overflow-x:auto;line-height:normal;font-family:Menlo,'DejaVu Sans Mono',consolas,'Courier New',monospace\"><span style=\"font-weight: bold\"> Non-trainable params: </span><span style=\"color: #00af00; text-decoration-color: #00af00\">6,000,000</span> (22.89 MB)\n",
       "</pre>\n"
      ],
      "text/plain": [
       "\u001b[1m Non-trainable params: \u001b[0m\u001b[38;5;34m6,000,000\u001b[0m (22.89 MB)\n"
      ]
     },
     "metadata": {},
     "output_type": "display_data"
    },
    {
     "name": "stdout",
     "output_type": "stream",
     "text": [
      "Epoch 1/5\n",
      "\u001b[1m1125/1125\u001b[0m \u001b[32m━━━━━━━━━━━━━━━━━━━━\u001b[0m\u001b[37m\u001b[0m \u001b[1m603s\u001b[0m 534ms/step - accuracy: 0.7699 - loss: 0.4929 - val_accuracy: 0.8189 - val_loss: 0.3996\n",
      "Epoch 2/5\n",
      "\u001b[1m1125/1125\u001b[0m \u001b[32m━━━━━━━━━━━━━━━━━━━━\u001b[0m\u001b[37m\u001b[0m \u001b[1m601s\u001b[0m 534ms/step - accuracy: 0.8157 - loss: 0.4227 - val_accuracy: 0.8273 - val_loss: 0.3814\n",
      "Epoch 3/5\n",
      "\u001b[1m1125/1125\u001b[0m \u001b[32m━━━━━━━━━━━━━━━━━━━━\u001b[0m\u001b[37m\u001b[0m \u001b[1m601s\u001b[0m 534ms/step - accuracy: 0.8233 - loss: 0.4058 - val_accuracy: 0.8302 - val_loss: 0.3803\n",
      "Epoch 4/5\n",
      "\u001b[1m1125/1125\u001b[0m \u001b[32m━━━━━━━━━━━━━━━━━━━━\u001b[0m\u001b[37m\u001b[0m \u001b[1m598s\u001b[0m 531ms/step - accuracy: 0.8281 - loss: 0.3950 - val_accuracy: 0.8320 - val_loss: 0.3730\n",
      "Epoch 5/5\n",
      "\u001b[1m1125/1125\u001b[0m \u001b[32m━━━━━━━━━━━━━━━━━━━━\u001b[0m\u001b[37m\u001b[0m \u001b[1m596s\u001b[0m 530ms/step - accuracy: 0.8316 - loss: 0.3883 - val_accuracy: 0.8341 - val_loss: 0.3698\n",
      "\u001b[1m10000/10000\u001b[0m \u001b[32m━━━━━━━━━━━━━━━━━━━━\u001b[0m\u001b[37m\u001b[0m \u001b[1m281s\u001b[0m 28ms/step\n",
      "Test accuracy_BiLSTM: 0.833875\n",
      "Confusion Matrix:BiLSTM\n"
     ]
    },
    {
     "data": {
      "image/png": "[encoded data removed]",
      "text/plain": [
       "<Figure size 640x480 with 2 Axes>"
      ]
     },
     "metadata": {},
     "output_type": "display_data"
    }
   ],
   "source": [
    "def getModel_bilstm():\n",
    "    embedding_layer = Embedding(input_dim = vocab_length,\n",
    "                                output_dim = Embedding_dimensions,\n",
    "                                weights=[embedding_matrix],\n",
    "                                input_length=input_length,\n",
    "                                trainable=False)\n",
    "\n",
    "    model = Sequential([\n",
    "        embedding_layer,\n",
    "        Bidirectional(LSTM(100, return_sequences=True)),\n",
    "        Dropout(0.5),\n",
    "        Bidirectional(LSTM(100)),\n",
    "        Dropout(0.5),\n",
    "        Dense(64, activation='relu'),\n",
    "        Dropout(0.5),\n",
    "        Dense(16, activation='relu'),\n",
    "        Dropout(0.5),\n",
    "        Dense(1, activation='sigmoid'),\n",
    "    ],\n",
    "    name=\"Sentiment_Model_BiLSTM\")\n",
    "    return model\n",
    "\n",
    "\n",
    "training_model = getModel_bilstm()\n",
    "training_model.summary()\n",
    "\n",
    "training_model.compile(loss='binary_crossentropy', optimizer='adam', metrics=['accuracy'])\n",
    "history = training_model.fit(\n",
    "    X_train, y_train,\n",
    "    batch_size=1024,\n",
    "    epochs=5,\n",
    "    validation_split=0.1,\n",
    "    verbose=1,\n",
    ")\n",
    "\n",
    "## Evaluating the model\n",
    "# Predicting on the Test dataset.\n",
    "y_pred = training_model.predict(X_test)\n",
    "\n",
    "# Converting prediction to reflect the sentiment predicted.\n",
    "y_pred = np.where(y_pred>=0.5, 1, 0)\n",
    "\n",
    "# Evaluate accuracy\n",
    "accuracy = accuracy_score(y_test, y_pred)\n",
    "print(f\"Test accuracy_BiLSTM: {accuracy}\")\n",
    "\n",
    "# Printing out the Evaluation metrics. \n",
    "print (\"Confusion Matrix:BiLSTM\")\n",
    "ConfusionMatrix(y_pred, y_test)"
   ]
  },
  {
   "cell_type": "code",
   "execution_count": 92,
   "id": "96f1600d",
   "metadata": {},
   "outputs": [],
   "source": [
    "## Save model\n",
    "# Saving the TF-Model.\n",
    "training_model.save('/Users/yogeshneupane/Downloads/mlpfinal/saved models/Sentiment-BiLSTM.keras')\n",
    "training_model.save_weights(\"/Users/yogeshneupane/Downloads/mlpfinal/saved models/weights_BiLSTM.weights.h5\")\n",
    "\n",
    "# Load the Word2Vec model as a KeyedVectors object\n",
    "word2vec_model1 = KeyedVectors.load('Word2Vec-twitter-100')\n",
    "\n",
    "\n",
    "# Load the tokenizer\n",
    "with open('Tokenizer.pickle', 'rb') as file:\n",
    "    tokenizer = pickle.load(file)\n",
    "\n",
    "# Load the TF-Model\n",
    "training_model = load_model('/Users/yogeshneupane/Downloads/mlpfinal/saved models/Sentiment-BiLSTM.keras')"
   ]
  },
  {
   "cell_type": "code",
   "execution_count": 93,
   "id": "3ece883c",
   "metadata": {},
   "outputs": [
    {
     "name": "stdout",
     "output_type": "stream",
     "text": [
      "\u001b[1m1/1\u001b[0m \u001b[32m━━━━━━━━━━━━━━━━━━━━\u001b[0m\u001b[37m\u001b[0m \u001b[1m0s\u001b[0m 164ms/step\n",
      "Predicted Sentiment: Negative\n"
     ]
    }
   ],
   "source": [
    "## Predictions on new data\n",
    "new_tweet = \"Today has been a terrible day. Nothing is going my way, and it feels like everything is falling apart. #badluck #feelingdown 😞\"\n",
    "\n",
    "# Tokenize and pad the new tweet\n",
    "input_length = 60  # Adjust this to match the input length used during training\n",
    "new_tweet_tokens = tokenizer.texts_to_sequences([new_tweet])\n",
    "new_tweet_tokens_padded = pad_sequences(new_tweet_tokens, maxlen=input_length)\n",
    "\n",
    "# Predict sentiment for the new tweet\n",
    "sentiment_probabilities = training_model.predict(new_tweet_tokens_padded)\n",
    "\n",
    "# If it's binary sentiment classification (positive/negative), you can use argmax to get the predicted sentiment\n",
    "predicted_sentiment = \"Positive\" if sentiment_probabilities[0][0] > 0.5 else \"Negative\"\n",
    "\n",
    "print(f\"Predicted Sentiment: {predicted_sentiment}\")"
   ]
  },
  {
   "cell_type": "markdown",
   "id": "ca29019f",
   "metadata": {
    "jp-MarkdownHeadingCollapsed": true
   },
   "source": [
    "# CNN "
   ]
  },
  {
   "cell_type": "code",
   "execution_count": 95,
   "id": "72275771",
   "metadata": {},
   "outputs": [
    {
     "name": "stderr",
     "output_type": "stream",
     "text": [
      "/opt/anaconda3/lib/python3.12/site-packages/keras/src/layers/core/embedding.py:90: UserWarning: Argument `input_length` is deprecated. Just remove it.\n",
      "  warnings.warn(\n"
     ]
    },
    {
     "data": {
      "text/html": [
       "<pre style=\"white-space:pre;overflow-x:auto;line-height:normal;font-family:Menlo,'DejaVu Sans Mono',consolas,'Courier New',monospace\"><span style=\"font-weight: bold\">Model: \"Sentiment_Model_CNN\"</span>\n",
       "</pre>\n"
      ],
      "text/plain": [
       "\u001b[1mModel: \"Sentiment_Model_CNN\"\u001b[0m\n"
      ]
     },
     "metadata": {},
     "output_type": "display_data"
    },
    {
     "data": {
      "text/html": [
       "<pre style=\"white-space:pre;overflow-x:auto;line-height:normal;font-family:Menlo,'DejaVu Sans Mono',consolas,'Courier New',monospace\">┏━━━━━━━━━━━━━━━━━━━━━━━━━━━━━━━━━┳━━━━━━━━━━━━━━━━━━━━━━━━┳━━━━━━━━━━━━━━━┓\n",
       "┃<span style=\"font-weight: bold\"> Layer (type)                    </span>┃<span style=\"font-weight: bold\"> Output Shape           </span>┃<span style=\"font-weight: bold\">       Param # </span>┃\n",
       "┡━━━━━━━━━━━━━━━━━━━━━━━━━━━━━━━━━╇━━━━━━━━━━━━━━━━━━━━━━━━╇━━━━━━━━━━━━━━━┩\n",
       "│ embedding_3 (<span style=\"color: #0087ff; text-decoration-color: #0087ff\">Embedding</span>)         │ ?                      │     <span style=\"color: #00af00; text-decoration-color: #00af00\">6,000,000</span> │\n",
       "├─────────────────────────────────┼────────────────────────┼───────────────┤\n",
       "│ conv1d (<span style=\"color: #0087ff; text-decoration-color: #0087ff\">Conv1D</span>)                 │ ?                      │   <span style=\"color: #00af00; text-decoration-color: #00af00\">0</span> (unbuilt) │\n",
       "├─────────────────────────────────┼────────────────────────┼───────────────┤\n",
       "│ max_pooling1d (<span style=\"color: #0087ff; text-decoration-color: #0087ff\">MaxPooling1D</span>)    │ ?                      │             <span style=\"color: #00af00; text-decoration-color: #00af00\">0</span> │\n",
       "├─────────────────────────────────┼────────────────────────┼───────────────┤\n",
       "│ conv1d_1 (<span style=\"color: #0087ff; text-decoration-color: #0087ff\">Conv1D</span>)               │ ?                      │   <span style=\"color: #00af00; text-decoration-color: #00af00\">0</span> (unbuilt) │\n",
       "├─────────────────────────────────┼────────────────────────┼───────────────┤\n",
       "│ global_max_pooling1d            │ ?                      │             <span style=\"color: #00af00; text-decoration-color: #00af00\">0</span> │\n",
       "│ (<span style=\"color: #0087ff; text-decoration-color: #0087ff\">GlobalMaxPooling1D</span>)            │                        │               │\n",
       "├─────────────────────────────────┼────────────────────────┼───────────────┤\n",
       "│ dense_8 (<span style=\"color: #0087ff; text-decoration-color: #0087ff\">Dense</span>)                 │ ?                      │   <span style=\"color: #00af00; text-decoration-color: #00af00\">0</span> (unbuilt) │\n",
       "├─────────────────────────────────┼────────────────────────┼───────────────┤\n",
       "│ dense_9 (<span style=\"color: #0087ff; text-decoration-color: #0087ff\">Dense</span>)                 │ ?                      │   <span style=\"color: #00af00; text-decoration-color: #00af00\">0</span> (unbuilt) │\n",
       "└─────────────────────────────────┴────────────────────────┴───────────────┘\n",
       "</pre>\n"
      ],
      "text/plain": [
       "┏━━━━━━━━━━━━━━━━━━━━━━━━━━━━━━━━━┳━━━━━━━━━━━━━━━━━━━━━━━━┳━━━━━━━━━━━━━━━┓\n",
       "┃\u001b[1m \u001b[0m\u001b[1mLayer (type)                   \u001b[0m\u001b[1m \u001b[0m┃\u001b[1m \u001b[0m\u001b[1mOutput Shape          \u001b[0m\u001b[1m \u001b[0m┃\u001b[1m \u001b[0m\u001b[1m      Param #\u001b[0m\u001b[1m \u001b[0m┃\n",
       "┡━━━━━━━━━━━━━━━━━━━━━━━━━━━━━━━━━╇━━━━━━━━━━━━━━━━━━━━━━━━╇━━━━━━━━━━━━━━━┩\n",
       "│ embedding_3 (\u001b[38;5;33mEmbedding\u001b[0m)         │ ?                      │     \u001b[38;5;34m6,000,000\u001b[0m │\n",
       "├─────────────────────────────────┼────────────────────────┼───────────────┤\n",
       "│ conv1d (\u001b[38;5;33mConv1D\u001b[0m)                 │ ?                      │   \u001b[38;5;34m0\u001b[0m (unbuilt) │\n",
       "├─────────────────────────────────┼────────────────────────┼───────────────┤\n",
       "│ max_pooling1d (\u001b[38;5;33mMaxPooling1D\u001b[0m)    │ ?                      │             \u001b[38;5;34m0\u001b[0m │\n",
       "├─────────────────────────────────┼────────────────────────┼───────────────┤\n",
       "│ conv1d_1 (\u001b[38;5;33mConv1D\u001b[0m)               │ ?                      │   \u001b[38;5;34m0\u001b[0m (unbuilt) │\n",
       "├─────────────────────────────────┼────────────────────────┼───────────────┤\n",
       "│ global_max_pooling1d            │ ?                      │             \u001b[38;5;34m0\u001b[0m │\n",
       "│ (\u001b[38;5;33mGlobalMaxPooling1D\u001b[0m)            │                        │               │\n",
       "├─────────────────────────────────┼────────────────────────┼───────────────┤\n",
       "│ dense_8 (\u001b[38;5;33mDense\u001b[0m)                 │ ?                      │   \u001b[38;5;34m0\u001b[0m (unbuilt) │\n",
       "├─────────────────────────────────┼────────────────────────┼───────────────┤\n",
       "│ dense_9 (\u001b[38;5;33mDense\u001b[0m)                 │ ?                      │   \u001b[38;5;34m0\u001b[0m (unbuilt) │\n",
       "└─────────────────────────────────┴────────────────────────┴───────────────┘\n"
      ]
     },
     "metadata": {},
     "output_type": "display_data"
    },
    {
     "data": {
      "text/html": [
       "<pre style=\"white-space:pre;overflow-x:auto;line-height:normal;font-family:Menlo,'DejaVu Sans Mono',consolas,'Courier New',monospace\"><span style=\"font-weight: bold\"> Total params: </span><span style=\"color: #00af00; text-decoration-color: #00af00\">6,000,000</span> (22.89 MB)\n",
       "</pre>\n"
      ],
      "text/plain": [
       "\u001b[1m Total params: \u001b[0m\u001b[38;5;34m6,000,000\u001b[0m (22.89 MB)\n"
      ]
     },
     "metadata": {},
     "output_type": "display_data"
    },
    {
     "data": {
      "text/html": [
       "<pre style=\"white-space:pre;overflow-x:auto;line-height:normal;font-family:Menlo,'DejaVu Sans Mono',consolas,'Courier New',monospace\"><span style=\"font-weight: bold\"> Trainable params: </span><span style=\"color: #00af00; text-decoration-color: #00af00\">0</span> (0.00 B)\n",
       "</pre>\n"
      ],
      "text/plain": [
       "\u001b[1m Trainable params: \u001b[0m\u001b[38;5;34m0\u001b[0m (0.00 B)\n"
      ]
     },
     "metadata": {},
     "output_type": "display_data"
    },
    {
     "data": {
      "text/html": [
       "<pre style=\"white-space:pre;overflow-x:auto;line-height:normal;font-family:Menlo,'DejaVu Sans Mono',consolas,'Courier New',monospace\"><span style=\"font-weight: bold\"> Non-trainable params: </span><span style=\"color: #00af00; text-decoration-color: #00af00\">6,000,000</span> (22.89 MB)\n",
       "</pre>\n"
      ],
      "text/plain": [
       "\u001b[1m Non-trainable params: \u001b[0m\u001b[38;5;34m6,000,000\u001b[0m (22.89 MB)\n"
      ]
     },
     "metadata": {},
     "output_type": "display_data"
    },
    {
     "name": "stdout",
     "output_type": "stream",
     "text": [
      "Epoch 1/15\n",
      "\u001b[1m1125/1125\u001b[0m \u001b[32m━━━━━━━━━━━━━━━━━━━━\u001b[0m\u001b[37m\u001b[0m \u001b[1m75s\u001b[0m 66ms/step - accuracy: 0.7641 - loss: 0.4813 - val_accuracy: 0.8050 - val_loss: 0.4194\n",
      "Epoch 2/15\n",
      "\u001b[1m1125/1125\u001b[0m \u001b[32m━━━━━━━━━━━━━━━━━━━━\u001b[0m\u001b[37m\u001b[0m \u001b[1m75s\u001b[0m 66ms/step - accuracy: 0.8106 - loss: 0.4104 - val_accuracy: 0.8116 - val_loss: 0.4066\n",
      "Epoch 3/15\n",
      "\u001b[1m1125/1125\u001b[0m \u001b[32m━━━━━━━━━━━━━━━━━━━━\u001b[0m\u001b[37m\u001b[0m \u001b[1m78s\u001b[0m 69ms/step - accuracy: 0.8193 - loss: 0.3955 - val_accuracy: 0.8149 - val_loss: 0.4018\n",
      "Epoch 4/15\n",
      "\u001b[1m1125/1125\u001b[0m \u001b[32m━━━━━━━━━━━━━━━━━━━━\u001b[0m\u001b[37m\u001b[0m \u001b[1m76s\u001b[0m 67ms/step - accuracy: 0.8244 - loss: 0.3850 - val_accuracy: 0.8155 - val_loss: 0.4017\n",
      "Epoch 5/15\n",
      "\u001b[1m1125/1125\u001b[0m \u001b[32m━━━━━━━━━━━━━━━━━━━━\u001b[0m\u001b[37m\u001b[0m \u001b[1m79s\u001b[0m 71ms/step - accuracy: 0.8298 - loss: 0.3771 - val_accuracy: 0.8174 - val_loss: 0.3998\n",
      "Epoch 6/15\n",
      "\u001b[1m1125/1125\u001b[0m \u001b[32m━━━━━━━━━━━━━━━━━━━━\u001b[0m\u001b[37m\u001b[0m \u001b[1m73s\u001b[0m 65ms/step - accuracy: 0.8324 - loss: 0.3706 - val_accuracy: 0.8165 - val_loss: 0.4005\n",
      "Epoch 7/15\n",
      "\u001b[1m1125/1125\u001b[0m \u001b[32m━━━━━━━━━━━━━━━━━━━━\u001b[0m\u001b[37m\u001b[0m \u001b[1m73s\u001b[0m 65ms/step - accuracy: 0.8353 - loss: 0.3653 - val_accuracy: 0.8171 - val_loss: 0.4025\n",
      "Epoch 8/15\n",
      "\u001b[1m1125/1125\u001b[0m \u001b[32m━━━━━━━━━━━━━━━━━━━━\u001b[0m\u001b[37m\u001b[0m \u001b[1m74s\u001b[0m 66ms/step - accuracy: 0.8382 - loss: 0.3597 - val_accuracy: 0.8152 - val_loss: 0.4021\n",
      "Epoch 9/15\n",
      "\u001b[1m1125/1125\u001b[0m \u001b[32m━━━━━━━━━━━━━━━━━━━━\u001b[0m\u001b[37m\u001b[0m \u001b[1m75s\u001b[0m 67ms/step - accuracy: 0.8400 - loss: 0.3560 - val_accuracy: 0.8177 - val_loss: 0.4031\n",
      "Epoch 10/15\n",
      "\u001b[1m1125/1125\u001b[0m \u001b[32m━━━━━━━━━━━━━━━━━━━━\u001b[0m\u001b[37m\u001b[0m \u001b[1m75s\u001b[0m 67ms/step - accuracy: 0.8425 - loss: 0.3515 - val_accuracy: 0.8166 - val_loss: 0.4029\n",
      "Epoch 11/15\n",
      "\u001b[1m1125/1125\u001b[0m \u001b[32m━━━━━━━━━━━━━━━━━━━━\u001b[0m\u001b[37m\u001b[0m \u001b[1m74s\u001b[0m 66ms/step - accuracy: 0.8450 - loss: 0.3472 - val_accuracy: 0.8153 - val_loss: 0.4059\n",
      "Epoch 12/15\n",
      "\u001b[1m1125/1125\u001b[0m \u001b[32m━━━━━━━━━━━━━━━━━━━━\u001b[0m\u001b[37m\u001b[0m \u001b[1m74s\u001b[0m 66ms/step - accuracy: 0.8457 - loss: 0.3455 - val_accuracy: 0.8168 - val_loss: 0.4061\n",
      "Epoch 13/15\n",
      "\u001b[1m1125/1125\u001b[0m \u001b[32m━━━━━━━━━━━━━━━━━━━━\u001b[0m\u001b[37m\u001b[0m \u001b[1m74s\u001b[0m 66ms/step - accuracy: 0.8481 - loss: 0.3410 - val_accuracy: 0.8169 - val_loss: 0.4070\n",
      "Epoch 14/15\n",
      "\u001b[1m1125/1125\u001b[0m \u001b[32m━━━━━━━━━━━━━━━━━━━━\u001b[0m\u001b[37m\u001b[0m \u001b[1m74s\u001b[0m 65ms/step - accuracy: 0.8493 - loss: 0.3390 - val_accuracy: 0.8149 - val_loss: 0.4124\n",
      "Epoch 15/15\n",
      "\u001b[1m1125/1125\u001b[0m \u001b[32m━━━━━━━━━━━━━━━━━━━━\u001b[0m\u001b[37m\u001b[0m \u001b[1m75s\u001b[0m 66ms/step - accuracy: 0.8505 - loss: 0.3362 - val_accuracy: 0.8139 - val_loss: 0.4114\n",
      "\u001b[1m10000/10000\u001b[0m \u001b[32m━━━━━━━━━━━━━━━━━━━━\u001b[0m\u001b[37m\u001b[0m \u001b[1m16s\u001b[0m 2ms/step\n",
      "Test accuracy_CNN: 0.813234375\n",
      "Confusion Matrix:CNN\n"
     ]
    },
    {
     "data": {
      "image/png": "[encoded data removed]",
      "text/plain": [
       "<Figure size 640x480 with 2 Axes>"
      ]
     },
     "metadata": {},
     "output_type": "display_data"
    }
   ],
   "source": [
    "def getModel_cnn():\n",
    "    embedding_layer = Embedding(input_dim = vocab_length,\n",
    "                                output_dim = Embedding_dimensions,\n",
    "                                weights=[embedding_matrix],\n",
    "                                input_length=input_length,\n",
    "                                trainable=False)\n",
    "\n",
    "    model = Sequential([\n",
    "        embedding_layer,\n",
    "        Conv1D(filters=128, kernel_size=5, activation='relu'),\n",
    "        MaxPooling1D(pool_size=2),\n",
    "        Conv1D(filters=64, kernel_size=3, activation='relu'),\n",
    "        GlobalMaxPooling1D(),\n",
    "        Dense(32, activation='relu'),\n",
    "        Dense(1, activation='sigmoid'),\n",
    "    ],\n",
    "    name=\"Sentiment_Model_CNN\")\n",
    "    return model\n",
    "\n",
    "\n",
    "training_model = getModel_cnn()\n",
    "training_model.summary()\n",
    "\n",
    "training_model.compile(loss='binary_crossentropy', optimizer='adam', metrics=['accuracy'])\n",
    "history = training_model.fit(\n",
    "    X_train, y_train,\n",
    "    batch_size=1024,\n",
    "    epochs=15,\n",
    "    validation_split=0.1,\n",
    "    verbose=1,\n",
    ")\n",
    "\n",
    "## Evaluating the model\n",
    "# Predicting on the Test dataset.\n",
    "y_pred = training_model.predict(X_test)\n",
    "\n",
    "# Converting prediction to reflect the sentiment predicted.\n",
    "y_pred = np.where(y_pred>=0.5, 1, 0)\n",
    "\n",
    "# Evaluate accuracy\n",
    "accuracy = accuracy_score(y_test, y_pred)\n",
    "print(f\"Test accuracy_CNN: {accuracy}\")\n",
    "\n",
    "# Printing out the Evaluation metrics. \n",
    "print (\"Confusion Matrix:CNN\")\n",
    "ConfusionMatrix(y_pred, y_test)"
   ]
  },
  {
   "cell_type": "code",
   "execution_count": 96,
   "id": "31f65dca",
   "metadata": {},
   "outputs": [],
   "source": [
    "## Save model\n",
    "# Saving the TF-Model.\n",
    "training_model.save('/Users/yogeshneupane/Downloads/mlpfinal/saved models/Sentiment-CNN.keras')\n",
    "training_model.save_weights(\"/Users/yogeshneupane/Downloads/mlpfinal/saved models/weights_CNN.weights.h5\")\n",
    "\n",
    "# Load the Word2Vec model as a KeyedVectors object\n",
    "word2vec_model1 = KeyedVectors.load('Word2Vec-twitter-100')\n",
    "\n",
    "\n",
    "# Load the tokenizer\n",
    "with open('Tokenizer.pickle', 'rb') as file:\n",
    "    tokenizer = pickle.load(file)\n",
    "\n",
    "# Load the TF-Model\n",
    "training_model = load_model('/Users/yogeshneupane/Downloads/mlpfinal/saved models/Sentiment-CNN.keras')"
   ]
  },
  {
   "cell_type": "code",
   "execution_count": 97,
   "id": "f90d3e13",
   "metadata": {},
   "outputs": [
    {
     "name": "stdout",
     "output_type": "stream",
     "text": [
      "\u001b[1m1/1\u001b[0m \u001b[32m━━━━━━━━━━━━━━━━━━━━\u001b[0m\u001b[37m\u001b[0m \u001b[1m0s\u001b[0m 38ms/step\n",
      "Predicted Sentiment: Negative\n"
     ]
    }
   ],
   "source": [
    "## Predictions on new data\n",
    "new_tweet = \"Today has been a terrible day. Nothing is going my way, and it feels like everything is falling apart. #badluck #feelingdown 😞\"\n",
    "\n",
    "# Tokenize and pad the new tweet\n",
    "input_length = 60  # Adjust this to match the input length used during training\n",
    "new_tweet_tokens = tokenizer.texts_to_sequences([new_tweet])\n",
    "new_tweet_tokens_padded = pad_sequences(new_tweet_tokens, maxlen=input_length)\n",
    "\n",
    "# Predict sentiment for the new tweet\n",
    "sentiment_probabilities = training_model.predict(new_tweet_tokens_padded)\n",
    "\n",
    "# If it's binary sentiment classification (positive/negative), you can use argmax to get the predicted sentiment\n",
    "predicted_sentiment = \"Positive\" if sentiment_probabilities[0][0] > 0.5 else \"Negative\"\n",
    "\n",
    "print(f\"Predicted Sentiment: {predicted_sentiment}\")"
   ]
  },
  {
   "cell_type": "markdown",
   "id": "e8a71150-a5d7-4b14-9194-bdf3b5a04fe7",
   "metadata": {},
   "source": [
    "# Contribution Code:\n",
    "\n",
    "# New Model Implementation: Random Forest"
   ]
  },
  {
   "cell_type": "code",
   "execution_count": 148,
   "id": "78ea5f94-4f2e-420c-82fe-4fefe9fd4942",
   "metadata": {},
   "outputs": [],
   "source": [
    "from sklearn.feature_extraction.text import TfidfVectorizer\n",
    "from sklearn.ensemble import RandomForestClassifier\n",
    "from sklearn.metrics import accuracy_score, confusion_matrix\n",
    "import seaborn as sns\n",
    "import matplotlib.pyplot as plt\n",
    "import numpy as np\n",
    "import pickle"
   ]
  },
  {
   "cell_type": "code",
   "execution_count": 152,
   "id": "ddd31e77-5979-468b-b9ab-94a8ec40eabc",
   "metadata": {},
   "outputs": [],
   "source": [
    "# Split the Dataset\n",
    "X = dataset['tweet']\n",
    "y = dataset['sentiment']\n",
    "X_train, X_test, y_train, y_test = train_test_split(X, y, test_size=0.2, random_state=42)\n",
    "\n",
    "# Feature Extraction using TF-IDF\n",
    "tfidf_vectorizer = TfidfVectorizer(max_features=5000)\n",
    "X_train_tfidf = tfidf_vectorizer.fit_transform(X_train)\n",
    "X_test_tfidf = tfidf_vectorizer.transform(X_test)"
   ]
  },
  {
   "cell_type": "code",
   "execution_count": 154,
   "id": "b5beec56-d828-46fb-87bf-223da6ad9ea6",
   "metadata": {},
   "outputs": [
    {
     "name": "stdout",
     "output_type": "stream",
     "text": [
      "Model Parameters: {'bootstrap': True, 'ccp_alpha': 0.0, 'class_weight': None, 'criterion': 'gini', 'max_depth': None, 'max_features': 'sqrt', 'max_leaf_nodes': None, 'max_samples': None, 'min_impurity_decrease': 0.0, 'min_samples_leaf': 1, 'min_samples_split': 2, 'min_weight_fraction_leaf': 0.0, 'monotonic_cst': None, 'n_estimators': 100, 'n_jobs': None, 'oob_score': False, 'random_state': 42, 'verbose': 0, 'warm_start': False}\n"
     ]
    }
   ],
   "source": [
    "# Train Random Forest Model\n",
    "rf_model = RandomForestClassifier(n_estimators=100, random_state=42)\n",
    "rf_model.fit(X_train_tfidf, y_train)\n",
    "print(\"Model Parameters:\", rf_model.get_params())"
   ]
  },
  {
   "cell_type": "code",
   "execution_count": 155,
   "id": "5a5677af-7cf6-4624-b4d3-904474ef7fe4",
   "metadata": {},
   "outputs": [
    {
     "name": "stdout",
     "output_type": "stream",
     "text": [
      "Test accuracy (Random Forest): 0.78611875\n",
      "Confusion Matrix: Random Forest\n"
     ]
    },
    {
     "data": {
      "image/png": "[encoded data removed]",
      "text/plain": [
       "<Figure size 640x480 with 2 Axes>"
      ]
     },
     "metadata": {},
     "output_type": "display_data"
    }
   ],
   "source": [
    "# Evaluate the Model\n",
    "y_pred_rf = rf_model.predict(X_test_tfidf)\n",
    "accuracy_rf = accuracy_score(y_test, y_pred_rf)\n",
    "print(f\"Test accuracy (Random Forest): {accuracy_rf}\")\n",
    "\n",
    "# Confusion Matrix\n",
    "def ConfusionMatrix(y_pred, y_test):\n",
    "    cf_matrix = confusion_matrix(y_test, y_pred)\n",
    "    categories = ['Negative', 'Positive']\n",
    "    group_names = ['True Neg', 'False Pos', 'False Neg', 'True Pos']\n",
    "    group_percentages = ['{0:.2%}'.format(value) for value in cf_matrix.flatten() / np.sum(cf_matrix)]\n",
    "    labels = [f'{v1}\\n{v2}' for v1, v2 in zip(group_names, group_percentages)]\n",
    "    labels = np.asarray(labels).reshape(2, 2)\n",
    "    sns.heatmap(cf_matrix, annot=labels, cmap='Blues', fmt='', xticklabels=categories, yticklabels=categories)\n",
    "    plt.xlabel(\"Predicted values\", fontdict={'size': 14}, labelpad=10)\n",
    "    plt.ylabel(\"Actual values\", fontdict={'size': 14}, labelpad=10)\n",
    "    plt.title(\"Confusion Matrix\", fontdict={'size': 18}, pad=20)\n",
    "\n",
    "print(\"Confusion Matrix: Random Forest\")\n",
    "ConfusionMatrix(y_pred_rf, y_test)"
   ]
  },
  {
   "cell_type": "code",
   "execution_count": 156,
   "id": "6ecdd8cd-b9af-4d36-85fd-3aad4aa79c8a",
   "metadata": {},
   "outputs": [],
   "source": [
    "# Save the Model\n",
    "with open('random_forest_model.pkl', 'wb') as file:\n",
    "    pickle.dump(rf_model, file)\n",
    "with open('tfidf_vectorizer.pkl', 'wb') as file:\n",
    "    pickle.dump(tfidf_vectorizer, file)"
   ]
  },
  {
   "cell_type": "code",
   "execution_count": 157,
   "id": "1810aa00-4cca-4d47-a379-aa18663cd178",
   "metadata": {},
   "outputs": [
    {
     "name": "stdout",
     "output_type": "stream",
     "text": [
      "Predicted Sentiment (Random Forest): Negative\n"
     ]
    }
   ],
   "source": [
    "# Prediction on New Data\n",
    "def preprocess_apply(text):\n",
    "    # Add your preprocessing steps here\n",
    "    text = text.lower()\n",
    "    text = re.sub(r'http\\S+', '<url>', text)\n",
    "    text = re.sub(r'@\\w+', '<user>', text)\n",
    "    text = re.sub(r'[^a-zA-Z\\s]', '', text)\n",
    "    text = re.sub(r'(.)\\1+', r'\\1\\1', text)\n",
    "    return text\n",
    "\n",
    "new_tweet = \"Today has been a terrible day. Nothing is going my way, and it feels like everything is falling apart. #badluck #feelingdown 😞\"\n",
    "new_tweet_processed = preprocess_apply(new_tweet)\n",
    "new_tweet_tfidf = tfidf_vectorizer.transform([new_tweet_processed])\n",
    "predicted_sentiment_rf = rf_model.predict(new_tweet_tfidf)\n",
    "predicted_sentiment_rf = \"Positive\" if predicted_sentiment_rf[0] == 1 else \"Negative\"\n",
    "print(f\"Predicted Sentiment (Random Forest): {predicted_sentiment_rf}\")"
   ]
  },
  {
   "cell_type": "markdown",
   "id": "91d2e635-af3a-46c4-b1f4-8d39bc01cff4",
   "metadata": {},
   "source": [
    "### Results :\n",
    "\n",
    "We trained a sentiment analysis model on tweet data. The model was capable of detecting the sentiment (positive/negative) with an average accuracy of 82% from all models. In testing the model achieved consistent performance, thereby proving its capacity to correctly classify unseen tweets.\n",
    "\n",
    "In our study we explored the use of a **Random Forest** model with **changing model parameters** for sentiment analysis to compare the performance of a Random Forest with  existing models based architecture. Despite our efforts, the Random Forest model achieved lower accuracy than the original code.\n",
    "\n",
    "#### Possible Reason for Low Accuracy\n",
    "\n",
    "Nature of the Data: \n",
    "Random Forest models are more appropriate for ordered, tabular data. As tweet data is sequential and highly sensitive to word order context, models based on RNNs are more suitable to learn these patterns.\n",
    "\n",
    "Feature Representation:\n",
    "In this work, because of the high-dimensional continuous vectors supplied by the Word2Vec embeddings, deep learning models such as BiLSTM, RNNs are much more suitable. Random Forest, a tree-based algorithm, may not utilize these embeddings as efficiently.\n",
    "\n",
    "Model Design:\n",
    "Random Forest does not take into account sequential dependencies in the text, which are also relevant to understanding what is expressed in a sentence with a certain sentiment.\n",
    "\n",
    "Optimization Constraints:\n",
    "There was a restriction on the hyperparameter tuning for the Random Forest model due to limited time. A more exhaustive search could potentially yield better results.\n",
    "\n",
    "\n",
    "#### Observations :\n",
    "\n",
    "1. Positive and negative tweets were equally represented in the training data.\n",
    "\n",
    "2. Preprocessing (noise reduction, e.g., removal of URL's and special characters) enhanced data quality.\n",
    "\n",
    "3. Word2Vec embeddings captured the semantic meaning of words effectively.\n",
    "\n",
    "4. The RNN architecture learned patterns in the text well but required tuning to avoid overfitting.\n",
    "\n"
   ]
  },
  {
   "cell_type": "markdown",
   "id": "4bbd3b29-9133-4613-acf8-a261498fd0b9",
   "metadata": {},
   "source": [
    "### Conclusion and Future Direction :\n",
    "\n",
    "The sentiment analysis model performed adequately for identifying tweet sentiment.\n",
    "\n",
    "In the future:\n",
    "\n",
    "Other (and possibly) subcategories, for example, neutral mixed sentiment can also be introduced.\n",
    "\n",
    "Additional data, including emojis, might help improve accuracy.\n",
    "\n",
    "For instance, the use of more complex models (e.g., transformers, see BERT can lead to improved performance.\n",
    "\n",
    "#### Learnings :\n",
    "\n",
    "Preprocessing is essential for better model training.\n",
    "\n",
    "Word embeddings improve the understanding of textual data.\n",
    "\n",
    "RNNs are powerful at sequence data (i.e., text), yet the power is typically an inexplicably good use of good parameter tuning.\n",
    "\n",
    "#### Results Discussion :\n",
    "\n",
    "The model reached the target of sentiment classification, but some of the limitations existed. It struggled with complex or sarcastic tweets. This illustrates the demand of more complex features or architectures for the nuances of text.\n",
    "\n",
    "#### Limitations :\n",
    "\n",
    "High Computational Requirements:\n",
    "Fine-tuning of the BERT requires a lot of resources (GPUs/TPUs), leading to resource-intensive process (high cost) and time.\n",
    "\n",
    "Dataset Dependency:\n",
    "Performances are highly sensitive to dataset quality and diversity and may lead to low generalization with limited or imbalanced datasets.\n",
    "\n",
    "Interpretability Challenges:\n",
    "BERT acts as a black box, thereby restricting the decision-making process's transparency.\n",
    "\n",
    "Handling Long Texts:\n",
    "Input size is limited to a maximum of 512 tokens, which may result in some loss of important information.\n",
    "\n",
    "Overfitting Risk:\n",
    "Training on a small number of datasets can result in overfitting, where performance on unseen data is poor.\n",
    "\n",
    "Contextual Misunderstandings:\n",
    "Lacking ability with difficult features, such as sarcasm, idiomatic expression, or culturally relevant information.\n",
    "\n",
    "Bias in Pre-trained Models:\n",
    "However, societal biases in training data may result in unfair sentiment classification.\n",
    "\n",
    "Scalability Challenges:\n",
    "High latency and memory demands hinder real-time, large-scale applications.\n",
    "\n",
    "\n",
    "#### Future Extension :\n",
    "\n",
    "Domain-Specific Tuning:\n",
    "Train BERT on specialized datasets for fields like healthcare or finance.\n",
    "\n",
    "Explainable AI:\n",
    "Add interpretability tools for transparent sentiment predictions.\n",
    "\n",
    "Handling Long Texts:\n",
    "Use models like Longformer to process longer inputs.\n",
    "\n",
    "Real-Time Applications:\n",
    "Optimize for low-latency, large-scale systems.\n",
    "\n",
    "Multilingual Support:\n",
    "Extend analysis to multiple languages with multilingual models.\n",
    "\n",
    "Bias Mitigation:\n",
    "Implement strategies to reduce bias in predictions.\n",
    "\n",
    "Hybrid Models:\n",
    "Combine BERT with other techniques for improved accuracy.\n",
    "\n",
    "Multimodal Analysis:\n",
    "Integrate text with images/audio to gain a deeper context understanding.\n",
    "\n",
    "User Feedback:\n",
    "Refine the model with continuous user feedback.\n",
    "\n",
    "Cloud Deployment:\n",
    "Offer as an API for easy integration across platforms.\n"
   ]
  },
  {
   "cell_type": "markdown",
   "id": "bd0e2d67-1870-4f5b-a78e-e920fd2c70b7",
   "metadata": {},
   "source": [
    "# References:\n",
    "\n",
    "\n",
    "Research Paper and Github Repository. https://github.com/SharminAnu/Sentiment_Analysis_Using_DeepLearning_BERT\n",
    "\n",
    "Kaggle. (n.d.). Twitter sentiment analysis dataset. Retrieved December 1, 2024, from https://www.kaggle.com/datasets/kazanova/sentiment140\n",
    "\n",
    "Analytics Vidhya. (2021). Fine-tuning BERT for sentiment analysis. Retrieved December 3, 2024, from https://www.analyticsvidhya.com/blog/2021/09/fine-tuning-bert-for-sentiment-analysis/\n",
    "\n",
    "TensorFlow Hub. (n.d.). Pretrained BERT model. Retrieved December 2, 2024, from https://tfhub.dev/google/bert_uncased_L-12_H-768_A-12/1\n",
    "\n",
    "Ethayarajh, K. (2019). How contextual are contextualized word representations? arXiv preprint arXiv:1909.00512. https://arxiv.org/abs/1909.00512\n",
    "\n",
    "\n"
   ]
  },
  {
   "cell_type": "code",
   "execution_count": null,
   "id": "0c9011a1-b658-424e-82a1-3864984bf3f9",
   "metadata": {},
   "outputs": [],
   "source": []
  }
 ],
 "metadata": {
  "kernelspec": {
   "display_name": "Python 3 (ipykernel)",
   "language": "python",
   "name": "python3"
  },
  "language_info": {
   "codemirror_mode": {
    "name": "ipython",
    "version": 3
   },
   "file_extension": ".py",
   "mimetype": "text/x-python",
   "name": "python",
   "nbconvert_exporter": "python",
   "pygments_lexer": "ipython3",
   "version": "3.12.4"
  },
  "papermill": {
   "default_parameters": {},
   "duration": 1252.772118,
   "end_time": "2023-09-11T14:23:35.167945",
   "environment_variables": {},
   "exception": null,
   "input_path": "__notebook__.ipynb",
   "output_path": "__notebook__.ipynb",
   "parameters": {},
   "start_time": "2023-09-11T14:02:42.395827",
   "version": "2.4.0"
  }
 },
 "nbformat": 4,
 "nbformat_minor": 5
}
